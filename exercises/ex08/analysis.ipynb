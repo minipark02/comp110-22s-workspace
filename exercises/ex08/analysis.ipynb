{
 "cells": [
  {
   "cell_type": "markdown",
   "metadata": {},
   "source": [
    "# Analysis for Continuous Improvement\n",
    "\n",
    "Author Name: Mercedes Parker\n",
    "\n",
    "9-digit PID: 730388033\n",
    "\n",
    "Continuous Improvement embraces a belief there is _always room to make things better_. It is a mindset and process we value and practice in this course. In this assignment, you are able to practice continuous improvement and contribute to the design ideas of the course.\n",
    "\n",
    "## Brainstorming Ideas\n",
    "\n",
    "Reflect on your personal experiences and observations in COMP110 and **brainstorm modifications to the course that _create value_ beyond its current design**. When brainstorming, try not to be critical of the ideas you come up with regarding scale, stakeholders impacted, or for any other reasons. In the markdown cell below, brainstorm 3 to 5 ideas you think would create value for you.\n",
    "\n",
    "Each brainstormed idea should state a. the suggested change or addition, b. what the expected value created, and c. which specific stakeholders would benefit.  If helpful, expand on the following template \"The course should (state idea here) because it will (state value created here) for (insert stakeholders here).\"\n",
    "\n",
    "Example A: \"The course should use only examples from psychology experiments because it will be more relevant for students who are psychology majors.\"\n",
    "\n",
    "Example B: \"The course should not have post-lesson questions because they are not useful for most students in the class.\""
   ]
  },
  {
   "cell_type": "markdown",
   "metadata": {},
   "source": [
    "### Part 1. Creative Ideation\n",
    "\n",
    "1. This course should include more opportunities for receiving assistance on assignments or learning concepts. This would be useful for those who may live off campus, during student breaks, or those who are finding COMP 110 difficult.\n",
    "2. This course should slow the pace down for students with zero experience in the world of programming since this is an introduction class because the concepts are so new and sometimes difficult to understand and implement in exercises or exams.\n",
    "3. This course should bring back the anonymous response feedback for students who would like to suggest improvements about the course without feeling nervous about their suggestions or having to confront the professor directly.\n",
    "4. This course should provide automatic feedback on the multiple choice post-lesson questions after submitting to benefit all students in seeing where they could improve their understanding immediately.\n",
    "5. This course may benefit from using a zoom option or type of \"breakout room\" option in CourseCare instead of solely livestreaming to give those who participate on zoom an opportunity to communicate with others during practices in class. "
   ]
  },
  {
   "cell_type": "markdown",
   "metadata": {},
   "source": [
    "## Connecting with Available Data\n",
    "\n",
    "The data you have available for this analysis is limited to the anonymized course survey you and your peers filled out a few weeks ago. The data is found in the `survey.csv` file in this exercise directory. Each row represents an individual survey response. Each column has a description which can be found on the project write-up here: <https://22s.comp110.com/exercises/ex08.html>\n",
    "\n",
    "Review the list of available data and identify which one of your ideas _does not_, or is _least likely to_, have relevant data to support the analysis of your idea to create value. In the box below, identify which of your ideas lacks data and suggest how we might be able to collect this data in the future. One aspect of _continuous improvement_ is trying to avoid \"tunnel vision\" where possible improvements are not considered because there is no data available to analyze it. Identifying new data sources can unlock improvements!"
   ]
  },
  {
   "cell_type": "markdown",
   "metadata": {},
   "source": [
    "### Part 2. Identifying Missing Data\n",
    "\n",
    "1. Idea without sufficient data to analyze:\n",
    "a.) This course should bring back the anonymous response feedback for students who would like to suggest improvements about the course without feeling nervous about their suggestions or having to confront the professor directly.\n",
    "b.) This course should provide automatic feedback on the multiple choice post-lesson questions after submitting to benefit all students in seeing where they could improve their understanding immediately.\n",
    "c.) This course may benefit from using a zoom option or type of \"breakout room\" option in CourseCare instead of solely livestreaming to give those who participate on zoom an opportunity to communicate with others during practices in class. \n",
    "\n",
    "2. Suggestion for how to collect data to support this idea in the future:\n",
    "a.) If we survey students on their comfort level with presenting ideas to their professor/TAs on a likert type scale with 1 - not at all comfortable to 7 - completely comfortable and ask how they would feel about having an anonymous feedback forum.\n",
    "b.) We could ask in the course eval survey relating to the question about how effective the lesson questions are and include a question asking if the student looks over the lesson once the grades are released or not.\n",
    "c.) When asking about their preferred course methods section, we can include a question on how they feel about the class method currently with a 1-7 likert scale with 1 - strongly dislike and 7 - strongly enjoy along with an open response question for students to freely put what aspects they like or dislike. We can also include questions on which method they take the class from (whether it be solely on stream, in-person, or a mix) and how connected students feel to their classmates on a scale of 1-7 with 1 - not at all connected and 7 - strongly connected."
   ]
  },
  {
   "cell_type": "markdown",
   "metadata": {},
   "source": [
    "## Choosing an Idea to Analyze\n",
    "\n",
    "Consider those of your ideas which _do_ seem likely to have relevant data to analyze. If none of your ideas do, spend a few minutes and brainstorm another idea or two with the added connection of data available on hand and add those ideas to your brainstormed ideas list.\n",
    "\n",
    "Select the one idea which you believe is _most valuable_ to analyze relative to the others and has data to support the analysis of. In the markdown cell for Part 3 below, identify the idea you are exploring and articulate why you believe it is most valuable (e.g. widest impact, biggest opportunity for improvement, simplest change for significant improvement, and so on)."
   ]
  },
  {
   "cell_type": "markdown",
   "metadata": {},
   "source": [
    "### Part 3. Choosing Your Analysis\n",
    "\n",
    "1. Idea to analyze with available data:\n",
    "a.) This course should slow the pace down in general for students with zero experience in the world of programming since this is an introduction class because the concepts are so new and sometimes difficult to understand and implement in exercises or exams.\n",
    "\n",
    "2. This idea is more valuable than the others brainstormed because:\n",
    "a.) I believe this idea is more valuable than the others that were brainstormed because I personally know a lot of students who have struggled a lot with COMP 110. A lot of people who have taken the class do say it is difficult along with those who are currently in this class who have not been exposed to programming ever. This class is also known to be fast-paced and a lot of time has to be put into studying just to be able to pass. I think there will be enough relevant data to help support this idea compared to the other ideas as well. I think analysing this data will also give us the biggest opportunity to improve the class and it is one of the more simpler ways to improve the class.\n"
   ]
  },
  {
   "cell_type": "markdown",
   "metadata": {},
   "source": [
    "## Your Analysis\n",
    "\n",
    "Before you begin analysis, a reminder that we do not expect the data to support everyone's ideas and you can complete this exercise for full credit even if the data does not clearly support your suggestion or even completely refutes it. What we are looking for is a logical attempt to explore the data using the techniques you have learned up until now in a way that _either_ supports, refutes, or does not have a clear result and then to reflect on your findings after the analysis.\n",
    "\n",
    "Using the utility functions you created for the previous exercise, you will continue with your analysis in the following part. Before you begin, refer to the rubric on the technical expectations of this section in the exercise write-up.\n",
    "\n",
    "In this section, you are expected to interleave code and markdown cells such that for each step of your analysis you are starting with an English description of what you are planning to do next in a markdown cell, followed by a Python cell that performs that step of the analysis."
   ]
  },
  {
   "cell_type": "markdown",
   "metadata": {},
   "source": [
    "### Part 4. Analysis\n",
    "\n",
    "We begin by changing some settings in the notebook to automatically reload changes to imported files."
   ]
  },
  {
   "cell_type": "code",
   "execution_count": 12,
   "metadata": {},
   "outputs": [],
   "source": [
    "%reload_ext autoreload\n",
    "%autoreload 2"
   ]
  },
  {
   "cell_type": "markdown",
   "metadata": {},
   "source": [
    "We continue by importing the helper functions from `data_utils`."
   ]
  },
  {
   "cell_type": "code",
   "execution_count": 13,
   "metadata": {},
   "outputs": [],
   "source": [
    "import data_utils"
   ]
  },
  {
   "cell_type": "markdown",
   "metadata": {},
   "source": [
    "Next, we look through the CSV file for the rows and put them into a 'table'. The column names will also be printed."
   ]
  },
  {
   "cell_type": "code",
   "execution_count": 14,
   "metadata": {},
   "outputs": [
    {
     "name": "stdout",
     "output_type": "stream",
     "text": [
      "Data File Read: ../../data/survey.csv\n",
      "620 rows\n",
      "35 columns\n",
      "Columns names: dict_keys(['row', 'year', 'unc_status', 'comp_major', 'primary_major', 'data_science', 'prereqs', 'prior_exp', 'ap_principles', 'ap_a', 'other_comp', 'prior_time', 'languages', 'hours_online_social', 'hours_online_work', 'lesson_time', 'sync_perf', 'all_sync', 'flipped_class', 'no_hybrid', 'own_notes', 'own_examples', 'oh_visits', 'ls_effective', 'lsqs_effective', 'programming_effective', 'qz_effective', 'oh_effective', 'tutoring_effective', 'pace', 'difficulty', 'understanding', 'interesting', 'valuable', 'would_recommend'])\n"
     ]
    }
   ],
   "source": [
    "SURVEY_DATA_CSV_FILE_PATH: str = \"../../data/survey.csv\"\n",
    "from data_utils import read_csv_rows\n",
    "\n",
    "data_rows: list[dict[str, str]] = read_csv_rows(SURVEY_DATA_CSV_FILE_PATH)\n",
    "\n",
    "if len(data_rows) == 0:\n",
    "    print(\"Go implement read_csv_rows in data_utils.py\")\n",
    "    print(\"Be sure to save your work before re-evaluating this cell!\")\n",
    "else:\n",
    "    print(f\"Data File Read: {SURVEY_DATA_CSV_FILE_PATH}\")\n",
    "    print(f\"{len(data_rows)} rows\")\n",
    "    print(f\"{len(data_rows[0].keys())} columns\")\n",
    "    print(f\"Columns names: {data_rows[0].keys()}\")"
   ]
  },
  {
   "cell_type": "markdown",
   "metadata": {},
   "source": [
    "We're going to turn the list of rows into a dict of the columns because it makes information from the data file easier to read and analyse."
   ]
  },
  {
   "cell_type": "code",
   "execution_count": 15,
   "metadata": {},
   "outputs": [
    {
     "name": "stdout",
     "output_type": "stream",
     "text": [
      "35 columns\n",
      "620 rows\n",
      "Columns names: dict_keys(['row', 'year', 'unc_status', 'comp_major', 'primary_major', 'data_science', 'prereqs', 'prior_exp', 'ap_principles', 'ap_a', 'other_comp', 'prior_time', 'languages', 'hours_online_social', 'hours_online_work', 'lesson_time', 'sync_perf', 'all_sync', 'flipped_class', 'no_hybrid', 'own_notes', 'own_examples', 'oh_visits', 'ls_effective', 'lsqs_effective', 'programming_effective', 'qz_effective', 'oh_effective', 'tutoring_effective', 'pace', 'difficulty', 'understanding', 'interesting', 'valuable', 'would_recommend'])\n"
     ]
    }
   ],
   "source": [
    "from data_utils import columnar\n",
    "\n",
    "data_cols: dict[str, list[str]] = columnar(data_rows)\n",
    "\n",
    "if len(data_cols.keys()) == 0:\n",
    "    print(\"Complete your implementation of columnar in data_utils.py\")\n",
    "    print(\"Be sure to follow the guidelines above and save your work before re-evaluating!\")\n",
    "else:\n",
    "    print(f\"{len(data_cols.keys())} columns\")\n",
    "    print(f\"{len(data_rows)} rows\")\n",
    "    print(f\"Columns names: {data_cols.keys()}\")"
   ]
  },
  {
   "cell_type": "markdown",
   "metadata": {},
   "source": [
    "Next we want to narrow down the amount of rows there are to the first 5 to make sure the function is working properly with this data we need to look at instead of all 620."
   ]
  },
  {
   "cell_type": "code",
   "execution_count": 16,
   "metadata": {},
   "outputs": [
    {
     "data": {
      "text/html": [
       "<table>\n",
       "<thead>\n",
       "<tr><th style=\"text-align: right;\">  row</th><th style=\"text-align: right;\">  year</th><th>unc_status                 </th><th>comp_major  </th><th>primary_major   </th><th>data_science  </th><th>prereqs                     </th><th>prior_exp                   </th><th>ap_principles  </th><th>ap_a  </th><th>other_comp                      </th><th>prior_time                  </th><th>languages               </th><th>hours_online_social  </th><th>hours_online_work  </th><th style=\"text-align: right;\">  lesson_time</th><th style=\"text-align: right;\">  sync_perf</th><th style=\"text-align: right;\">  all_sync</th><th style=\"text-align: right;\">  flipped_class</th><th style=\"text-align: right;\">  no_hybrid</th><th style=\"text-align: right;\">  own_notes</th><th style=\"text-align: right;\">  own_examples</th><th style=\"text-align: right;\">  oh_visits</th><th style=\"text-align: right;\">  ls_effective</th><th style=\"text-align: right;\">  lsqs_effective</th><th style=\"text-align: right;\">  programming_effective</th><th style=\"text-align: right;\">  qz_effective</th><th>oh_effective  </th><th>tutoring_effective  </th><th style=\"text-align: right;\">  pace</th><th style=\"text-align: right;\">  difficulty</th><th style=\"text-align: right;\">  understanding</th><th style=\"text-align: right;\">  interesting</th><th style=\"text-align: right;\">  valuable</th><th style=\"text-align: right;\">  would_recommend</th></tr>\n",
       "</thead>\n",
       "<tbody>\n",
       "<tr><td style=\"text-align: right;\">    0</td><td style=\"text-align: right;\">    22</td><td>Returning UNC Student      </td><td>No          </td><td>Mathematics     </td><td>No            </td><td>MATH 233, MATH 347, MATH 381</td><td>7-12 months                 </td><td>No             </td><td>No    </td><td>UNC                             </td><td>1 month or so               </td><td>Python, R / Matlab / SAS</td><td>3 to 5 hours         </td><td>0 to 2 hours       </td><td style=\"text-align: right;\">            6</td><td style=\"text-align: right;\">          2</td><td style=\"text-align: right;\">         2</td><td style=\"text-align: right;\">              1</td><td style=\"text-align: right;\">          2</td><td style=\"text-align: right;\">          4</td><td style=\"text-align: right;\">             4</td><td style=\"text-align: right;\">          0</td><td style=\"text-align: right;\">             7</td><td style=\"text-align: right;\">               3</td><td style=\"text-align: right;\">                      7</td><td style=\"text-align: right;\">             5</td><td>              </td><td>                    </td><td style=\"text-align: right;\">     1</td><td style=\"text-align: right;\">           1</td><td style=\"text-align: right;\">              7</td><td style=\"text-align: right;\">            5</td><td style=\"text-align: right;\">         6</td><td style=\"text-align: right;\">                5</td></tr>\n",
       "<tr><td style=\"text-align: right;\">    1</td><td style=\"text-align: right;\">    25</td><td>Returning UNC Student      </td><td>No          </td><td>Mathematics     </td><td>Yes           </td><td>MATH 130, MATH 231, STOR 155</td><td>None to less than one month!</td><td>               </td><td>      </td><td>                                </td><td>                            </td><td>                        </td><td>0 to 2 hours         </td><td>5 to 10 hours      </td><td style=\"text-align: right;\">            4</td><td style=\"text-align: right;\">          3</td><td style=\"text-align: right;\">         3</td><td style=\"text-align: right;\">              1</td><td style=\"text-align: right;\">          2</td><td style=\"text-align: right;\">          6</td><td style=\"text-align: right;\">             4</td><td style=\"text-align: right;\">          5</td><td style=\"text-align: right;\">             5</td><td style=\"text-align: right;\">               5</td><td style=\"text-align: right;\">                      5</td><td style=\"text-align: right;\">             5</td><td>7             </td><td>6                   </td><td style=\"text-align: right;\">     6</td><td style=\"text-align: right;\">           6</td><td style=\"text-align: right;\">              3</td><td style=\"text-align: right;\">            4</td><td style=\"text-align: right;\">         6</td><td style=\"text-align: right;\">                4</td></tr>\n",
       "<tr><td style=\"text-align: right;\">    2</td><td style=\"text-align: right;\">    25</td><td>Incoming First-year Student</td><td>Yes - BA    </td><td>Computer Science</td><td>No            </td><td>MATH 130, MATH 152, MATH 210</td><td>None to less than one month!</td><td>               </td><td>      </td><td>                                </td><td>                            </td><td>                        </td><td>3 to 5 hours         </td><td>5 to 10 hours      </td><td style=\"text-align: right;\">            3</td><td style=\"text-align: right;\">          3</td><td style=\"text-align: right;\">         4</td><td style=\"text-align: right;\">              2</td><td style=\"text-align: right;\">          1</td><td style=\"text-align: right;\">          7</td><td style=\"text-align: right;\">             7</td><td style=\"text-align: right;\">          2</td><td style=\"text-align: right;\">             5</td><td style=\"text-align: right;\">               6</td><td style=\"text-align: right;\">                      7</td><td style=\"text-align: right;\">             7</td><td>4             </td><td>                    </td><td style=\"text-align: right;\">     6</td><td style=\"text-align: right;\">           4</td><td style=\"text-align: right;\">              6</td><td style=\"text-align: right;\">            7</td><td style=\"text-align: right;\">         7</td><td style=\"text-align: right;\">                7</td></tr>\n",
       "<tr><td style=\"text-align: right;\">    3</td><td style=\"text-align: right;\">    24</td><td>Returning UNC Student      </td><td>Yes - BS    </td><td>Computer Science</td><td>Maybe         </td><td>MATH 231, MATH 232, STOR 155</td><td>2-6 months                  </td><td>No             </td><td>No    </td><td>High school course (IB or other)</td><td>None to less than one month!</td><td>Python                  </td><td>3 to 5 hours         </td><td>3 to 5 hours       </td><td style=\"text-align: right;\">            5</td><td style=\"text-align: right;\">          5</td><td style=\"text-align: right;\">         4</td><td style=\"text-align: right;\">              3</td><td style=\"text-align: right;\">          3</td><td style=\"text-align: right;\">          6</td><td style=\"text-align: right;\">             5</td><td style=\"text-align: right;\">          1</td><td style=\"text-align: right;\">             6</td><td style=\"text-align: right;\">               3</td><td style=\"text-align: right;\">                      5</td><td style=\"text-align: right;\">             5</td><td>5             </td><td>4                   </td><td style=\"text-align: right;\">     4</td><td style=\"text-align: right;\">           4</td><td style=\"text-align: right;\">              5</td><td style=\"text-align: right;\">            6</td><td style=\"text-align: right;\">         6</td><td style=\"text-align: right;\">                6</td></tr>\n",
       "<tr><td style=\"text-align: right;\">    4</td><td style=\"text-align: right;\">    25</td><td>Incoming First-year Student</td><td>Yes - BA    </td><td>Computer Science</td><td>No            </td><td>MATH 130                    </td><td>None to less than one month!</td><td>               </td><td>      </td><td>                                </td><td>                            </td><td>                        </td><td>0 to 2 hours         </td><td>3 to 5 hours       </td><td style=\"text-align: right;\">            7</td><td style=\"text-align: right;\">          3</td><td style=\"text-align: right;\">         3</td><td style=\"text-align: right;\">              3</td><td style=\"text-align: right;\">          2</td><td style=\"text-align: right;\">          6</td><td style=\"text-align: right;\">             3</td><td style=\"text-align: right;\">          5</td><td style=\"text-align: right;\">             6</td><td style=\"text-align: right;\">               6</td><td style=\"text-align: right;\">                      6</td><td style=\"text-align: right;\">             6</td><td>7             </td><td>3                   </td><td style=\"text-align: right;\">     6</td><td style=\"text-align: right;\">           5</td><td style=\"text-align: right;\">              5</td><td style=\"text-align: right;\">            6</td><td style=\"text-align: right;\">         6</td><td style=\"text-align: right;\">                7</td></tr>\n",
       "</tbody>\n",
       "</table>"
      ],
      "text/plain": [
       "'<table>\\n<thead>\\n<tr><th style=\"text-align: right;\">  row</th><th style=\"text-align: right;\">  year</th><th>unc_status                 </th><th>comp_major  </th><th>primary_major   </th><th>data_science  </th><th>prereqs                     </th><th>prior_exp                   </th><th>ap_principles  </th><th>ap_a  </th><th>other_comp                      </th><th>prior_time                  </th><th>languages               </th><th>hours_online_social  </th><th>hours_online_work  </th><th style=\"text-align: right;\">  lesson_time</th><th style=\"text-align: right;\">  sync_perf</th><th style=\"text-align: right;\">  all_sync</th><th style=\"text-align: right;\">  flipped_class</th><th style=\"text-align: right;\">  no_hybrid</th><th style=\"text-align: right;\">  own_notes</th><th style=\"text-align: right;\">  own_examples</th><th style=\"text-align: right;\">  oh_visits</th><th style=\"text-align: right;\">  ls_effective</th><th style=\"text-align: right;\">  lsqs_effective</th><th style=\"text-align: right;\">  programming_effective</th><th style=\"text-align: right;\">  qz_effective</th><th>oh_effective  </th><th>tutoring_effective  </th><th style=\"text-align: right;\">  pace</th><th style=\"text-align: right;\">  difficulty</th><th style=\"text-align: right;\">  understanding</th><th style=\"text-align: right;\">  interesting</th><th style=\"text-align: right;\">  valuable</th><th style=\"text-align: right;\">  would_recommend</th></tr>\\n</thead>\\n<tbody>\\n<tr><td style=\"text-align: right;\">    0</td><td style=\"text-align: right;\">    22</td><td>Returning UNC Student      </td><td>No          </td><td>Mathematics     </td><td>No            </td><td>MATH 233, MATH 347, MATH 381</td><td>7-12 months                 </td><td>No             </td><td>No    </td><td>UNC                             </td><td>1 month or so               </td><td>Python, R / Matlab / SAS</td><td>3 to 5 hours         </td><td>0 to 2 hours       </td><td style=\"text-align: right;\">            6</td><td style=\"text-align: right;\">          2</td><td style=\"text-align: right;\">         2</td><td style=\"text-align: right;\">              1</td><td style=\"text-align: right;\">          2</td><td style=\"text-align: right;\">          4</td><td style=\"text-align: right;\">             4</td><td style=\"text-align: right;\">          0</td><td style=\"text-align: right;\">             7</td><td style=\"text-align: right;\">               3</td><td style=\"text-align: right;\">                      7</td><td style=\"text-align: right;\">             5</td><td>              </td><td>                    </td><td style=\"text-align: right;\">     1</td><td style=\"text-align: right;\">           1</td><td style=\"text-align: right;\">              7</td><td style=\"text-align: right;\">            5</td><td style=\"text-align: right;\">         6</td><td style=\"text-align: right;\">                5</td></tr>\\n<tr><td style=\"text-align: right;\">    1</td><td style=\"text-align: right;\">    25</td><td>Returning UNC Student      </td><td>No          </td><td>Mathematics     </td><td>Yes           </td><td>MATH 130, MATH 231, STOR 155</td><td>None to less than one month!</td><td>               </td><td>      </td><td>                                </td><td>                            </td><td>                        </td><td>0 to 2 hours         </td><td>5 to 10 hours      </td><td style=\"text-align: right;\">            4</td><td style=\"text-align: right;\">          3</td><td style=\"text-align: right;\">         3</td><td style=\"text-align: right;\">              1</td><td style=\"text-align: right;\">          2</td><td style=\"text-align: right;\">          6</td><td style=\"text-align: right;\">             4</td><td style=\"text-align: right;\">          5</td><td style=\"text-align: right;\">             5</td><td style=\"text-align: right;\">               5</td><td style=\"text-align: right;\">                      5</td><td style=\"text-align: right;\">             5</td><td>7             </td><td>6                   </td><td style=\"text-align: right;\">     6</td><td style=\"text-align: right;\">           6</td><td style=\"text-align: right;\">              3</td><td style=\"text-align: right;\">            4</td><td style=\"text-align: right;\">         6</td><td style=\"text-align: right;\">                4</td></tr>\\n<tr><td style=\"text-align: right;\">    2</td><td style=\"text-align: right;\">    25</td><td>Incoming First-year Student</td><td>Yes - BA    </td><td>Computer Science</td><td>No            </td><td>MATH 130, MATH 152, MATH 210</td><td>None to less than one month!</td><td>               </td><td>      </td><td>                                </td><td>                            </td><td>                        </td><td>3 to 5 hours         </td><td>5 to 10 hours      </td><td style=\"text-align: right;\">            3</td><td style=\"text-align: right;\">          3</td><td style=\"text-align: right;\">         4</td><td style=\"text-align: right;\">              2</td><td style=\"text-align: right;\">          1</td><td style=\"text-align: right;\">          7</td><td style=\"text-align: right;\">             7</td><td style=\"text-align: right;\">          2</td><td style=\"text-align: right;\">             5</td><td style=\"text-align: right;\">               6</td><td style=\"text-align: right;\">                      7</td><td style=\"text-align: right;\">             7</td><td>4             </td><td>                    </td><td style=\"text-align: right;\">     6</td><td style=\"text-align: right;\">           4</td><td style=\"text-align: right;\">              6</td><td style=\"text-align: right;\">            7</td><td style=\"text-align: right;\">         7</td><td style=\"text-align: right;\">                7</td></tr>\\n<tr><td style=\"text-align: right;\">    3</td><td style=\"text-align: right;\">    24</td><td>Returning UNC Student      </td><td>Yes - BS    </td><td>Computer Science</td><td>Maybe         </td><td>MATH 231, MATH 232, STOR 155</td><td>2-6 months                  </td><td>No             </td><td>No    </td><td>High school course (IB or other)</td><td>None to less than one month!</td><td>Python                  </td><td>3 to 5 hours         </td><td>3 to 5 hours       </td><td style=\"text-align: right;\">            5</td><td style=\"text-align: right;\">          5</td><td style=\"text-align: right;\">         4</td><td style=\"text-align: right;\">              3</td><td style=\"text-align: right;\">          3</td><td style=\"text-align: right;\">          6</td><td style=\"text-align: right;\">             5</td><td style=\"text-align: right;\">          1</td><td style=\"text-align: right;\">             6</td><td style=\"text-align: right;\">               3</td><td style=\"text-align: right;\">                      5</td><td style=\"text-align: right;\">             5</td><td>5             </td><td>4                   </td><td style=\"text-align: right;\">     4</td><td style=\"text-align: right;\">           4</td><td style=\"text-align: right;\">              5</td><td style=\"text-align: right;\">            6</td><td style=\"text-align: right;\">         6</td><td style=\"text-align: right;\">                6</td></tr>\\n<tr><td style=\"text-align: right;\">    4</td><td style=\"text-align: right;\">    25</td><td>Incoming First-year Student</td><td>Yes - BA    </td><td>Computer Science</td><td>No            </td><td>MATH 130                    </td><td>None to less than one month!</td><td>               </td><td>      </td><td>                                </td><td>                            </td><td>                        </td><td>0 to 2 hours         </td><td>3 to 5 hours       </td><td style=\"text-align: right;\">            7</td><td style=\"text-align: right;\">          3</td><td style=\"text-align: right;\">         3</td><td style=\"text-align: right;\">              3</td><td style=\"text-align: right;\">          2</td><td style=\"text-align: right;\">          6</td><td style=\"text-align: right;\">             3</td><td style=\"text-align: right;\">          5</td><td style=\"text-align: right;\">             6</td><td style=\"text-align: right;\">               6</td><td style=\"text-align: right;\">                      6</td><td style=\"text-align: right;\">             6</td><td>7             </td><td>3                   </td><td style=\"text-align: right;\">     6</td><td style=\"text-align: right;\">           5</td><td style=\"text-align: right;\">              5</td><td style=\"text-align: right;\">            6</td><td style=\"text-align: right;\">         6</td><td style=\"text-align: right;\">                7</td></tr>\\n</tbody>\\n</table>'"
      ]
     },
     "execution_count": 16,
     "metadata": {},
     "output_type": "execute_result"
    }
   ],
   "source": [
    "from data_utils import head\n",
    "from tabulate import tabulate\n",
    "\n",
    "data_cols_head: dict[str, list[str]] = head(data_cols, 5)\n",
    "\n",
    "if len(data_cols_head.keys()) != len(data_cols.keys()) or len(data_cols_head[\"year\"]) != 5:\n",
    "    print(\"Complete your implementation of columnar in data_utils.py\")\n",
    "    print(\"Be sure to follow the guidelines above and save your work before re-evaluating!\")\n",
    "\n",
    "tabulate(data_cols_head, data_cols_head.keys(), \"html\")"
   ]
  },
  {
   "cell_type": "markdown",
   "metadata": {},
   "source": [
    "Now, we're going to pick out two specific columns of data that we can use to analyse the proposed idea on how to improve the class."
   ]
  },
  {
   "cell_type": "code",
   "execution_count": 17,
   "metadata": {},
   "outputs": [
    {
     "data": {
      "text/html": [
       "<table>\n",
       "<thead>\n",
       "<tr><th style=\"text-align: right;\">  difficulty</th><th style=\"text-align: right;\">  pace</th></tr>\n",
       "</thead>\n",
       "<tbody>\n",
       "<tr><td style=\"text-align: right;\">           1</td><td style=\"text-align: right;\">     1</td></tr>\n",
       "<tr><td style=\"text-align: right;\">           6</td><td style=\"text-align: right;\">     6</td></tr>\n",
       "<tr><td style=\"text-align: right;\">           4</td><td style=\"text-align: right;\">     6</td></tr>\n",
       "<tr><td style=\"text-align: right;\">           4</td><td style=\"text-align: right;\">     4</td></tr>\n",
       "<tr><td style=\"text-align: right;\">           5</td><td style=\"text-align: right;\">     6</td></tr>\n",
       "<tr><td style=\"text-align: right;\">           3</td><td style=\"text-align: right;\">     4</td></tr>\n",
       "<tr><td style=\"text-align: right;\">           4</td><td style=\"text-align: right;\">     4</td></tr>\n",
       "<tr><td style=\"text-align: right;\">           4</td><td style=\"text-align: right;\">     4</td></tr>\n",
       "<tr><td style=\"text-align: right;\">           4</td><td style=\"text-align: right;\">     5</td></tr>\n",
       "<tr><td style=\"text-align: right;\">           4</td><td style=\"text-align: right;\">     7</td></tr>\n",
       "<tr><td style=\"text-align: right;\">           3</td><td style=\"text-align: right;\">     5</td></tr>\n",
       "<tr><td style=\"text-align: right;\">           4</td><td style=\"text-align: right;\">     6</td></tr>\n",
       "<tr><td style=\"text-align: right;\">           5</td><td style=\"text-align: right;\">     5</td></tr>\n",
       "<tr><td style=\"text-align: right;\">           3</td><td style=\"text-align: right;\">     4</td></tr>\n",
       "<tr><td style=\"text-align: right;\">           4</td><td style=\"text-align: right;\">     4</td></tr>\n",
       "<tr><td style=\"text-align: right;\">           7</td><td style=\"text-align: right;\">     5</td></tr>\n",
       "<tr><td style=\"text-align: right;\">           7</td><td style=\"text-align: right;\">     6</td></tr>\n",
       "<tr><td style=\"text-align: right;\">           4</td><td style=\"text-align: right;\">     4</td></tr>\n",
       "<tr><td style=\"text-align: right;\">           7</td><td style=\"text-align: right;\">     5</td></tr>\n",
       "<tr><td style=\"text-align: right;\">           2</td><td style=\"text-align: right;\">     4</td></tr>\n",
       "<tr><td style=\"text-align: right;\">           4</td><td style=\"text-align: right;\">     6</td></tr>\n",
       "<tr><td style=\"text-align: right;\">           5</td><td style=\"text-align: right;\">     5</td></tr>\n",
       "<tr><td style=\"text-align: right;\">           5</td><td style=\"text-align: right;\">     5</td></tr>\n",
       "<tr><td style=\"text-align: right;\">           6</td><td style=\"text-align: right;\">     5</td></tr>\n",
       "<tr><td style=\"text-align: right;\">           7</td><td style=\"text-align: right;\">     7</td></tr>\n",
       "<tr><td style=\"text-align: right;\">           5</td><td style=\"text-align: right;\">     4</td></tr>\n",
       "<tr><td style=\"text-align: right;\">           4</td><td style=\"text-align: right;\">     5</td></tr>\n",
       "<tr><td style=\"text-align: right;\">           4</td><td style=\"text-align: right;\">     6</td></tr>\n",
       "<tr><td style=\"text-align: right;\">           3</td><td style=\"text-align: right;\">     4</td></tr>\n",
       "<tr><td style=\"text-align: right;\">           5</td><td style=\"text-align: right;\">     5</td></tr>\n",
       "<tr><td style=\"text-align: right;\">           6</td><td style=\"text-align: right;\">     6</td></tr>\n",
       "<tr><td style=\"text-align: right;\">           5</td><td style=\"text-align: right;\">     5</td></tr>\n",
       "<tr><td style=\"text-align: right;\">           6</td><td style=\"text-align: right;\">     6</td></tr>\n",
       "<tr><td style=\"text-align: right;\">           4</td><td style=\"text-align: right;\">     5</td></tr>\n",
       "<tr><td style=\"text-align: right;\">           4</td><td style=\"text-align: right;\">     5</td></tr>\n",
       "<tr><td style=\"text-align: right;\">           4</td><td style=\"text-align: right;\">     5</td></tr>\n",
       "<tr><td style=\"text-align: right;\">           6</td><td style=\"text-align: right;\">     6</td></tr>\n",
       "<tr><td style=\"text-align: right;\">           5</td><td style=\"text-align: right;\">     5</td></tr>\n",
       "<tr><td style=\"text-align: right;\">           3</td><td style=\"text-align: right;\">     4</td></tr>\n",
       "<tr><td style=\"text-align: right;\">           5</td><td style=\"text-align: right;\">     5</td></tr>\n",
       "<tr><td style=\"text-align: right;\">           3</td><td style=\"text-align: right;\">     4</td></tr>\n",
       "<tr><td style=\"text-align: right;\">           5</td><td style=\"text-align: right;\">     4</td></tr>\n",
       "<tr><td style=\"text-align: right;\">           5</td><td style=\"text-align: right;\">     4</td></tr>\n",
       "<tr><td style=\"text-align: right;\">           7</td><td style=\"text-align: right;\">     5</td></tr>\n",
       "<tr><td style=\"text-align: right;\">           5</td><td style=\"text-align: right;\">     6</td></tr>\n",
       "<tr><td style=\"text-align: right;\">           3</td><td style=\"text-align: right;\">     4</td></tr>\n",
       "<tr><td style=\"text-align: right;\">           4</td><td style=\"text-align: right;\">     4</td></tr>\n",
       "<tr><td style=\"text-align: right;\">           4</td><td style=\"text-align: right;\">     5</td></tr>\n",
       "<tr><td style=\"text-align: right;\">           6</td><td style=\"text-align: right;\">     6</td></tr>\n",
       "<tr><td style=\"text-align: right;\">           3</td><td style=\"text-align: right;\">     4</td></tr>\n",
       "<tr><td style=\"text-align: right;\">           4</td><td style=\"text-align: right;\">     4</td></tr>\n",
       "<tr><td style=\"text-align: right;\">           4</td><td style=\"text-align: right;\">     6</td></tr>\n",
       "<tr><td style=\"text-align: right;\">           5</td><td style=\"text-align: right;\">     5</td></tr>\n",
       "<tr><td style=\"text-align: right;\">           1</td><td style=\"text-align: right;\">     7</td></tr>\n",
       "<tr><td style=\"text-align: right;\">           1</td><td style=\"text-align: right;\">     4</td></tr>\n",
       "<tr><td style=\"text-align: right;\">           5</td><td style=\"text-align: right;\">     7</td></tr>\n",
       "<tr><td style=\"text-align: right;\">           6</td><td style=\"text-align: right;\">     5</td></tr>\n",
       "<tr><td style=\"text-align: right;\">           4</td><td style=\"text-align: right;\">     4</td></tr>\n",
       "<tr><td style=\"text-align: right;\">           4</td><td style=\"text-align: right;\">     4</td></tr>\n",
       "<tr><td style=\"text-align: right;\">           5</td><td style=\"text-align: right;\">     7</td></tr>\n",
       "<tr><td style=\"text-align: right;\">           2</td><td style=\"text-align: right;\">     4</td></tr>\n",
       "<tr><td style=\"text-align: right;\">           4</td><td style=\"text-align: right;\">     6</td></tr>\n",
       "<tr><td style=\"text-align: right;\">           5</td><td style=\"text-align: right;\">     5</td></tr>\n",
       "<tr><td style=\"text-align: right;\">           5</td><td style=\"text-align: right;\">     5</td></tr>\n",
       "<tr><td style=\"text-align: right;\">           2</td><td style=\"text-align: right;\">     5</td></tr>\n",
       "<tr><td style=\"text-align: right;\">           5</td><td style=\"text-align: right;\">     4</td></tr>\n",
       "<tr><td style=\"text-align: right;\">           3</td><td style=\"text-align: right;\">     4</td></tr>\n",
       "<tr><td style=\"text-align: right;\">           6</td><td style=\"text-align: right;\">     5</td></tr>\n",
       "<tr><td style=\"text-align: right;\">           4</td><td style=\"text-align: right;\">     5</td></tr>\n",
       "<tr><td style=\"text-align: right;\">           6</td><td style=\"text-align: right;\">     5</td></tr>\n",
       "<tr><td style=\"text-align: right;\">           5</td><td style=\"text-align: right;\">     7</td></tr>\n",
       "<tr><td style=\"text-align: right;\">           7</td><td style=\"text-align: right;\">     6</td></tr>\n",
       "<tr><td style=\"text-align: right;\">           3</td><td style=\"text-align: right;\">     3</td></tr>\n",
       "<tr><td style=\"text-align: right;\">           5</td><td style=\"text-align: right;\">     5</td></tr>\n",
       "<tr><td style=\"text-align: right;\">           3</td><td style=\"text-align: right;\">     4</td></tr>\n",
       "<tr><td style=\"text-align: right;\">           2</td><td style=\"text-align: right;\">     5</td></tr>\n",
       "<tr><td style=\"text-align: right;\">           5</td><td style=\"text-align: right;\">     5</td></tr>\n",
       "<tr><td style=\"text-align: right;\">           3</td><td style=\"text-align: right;\">     7</td></tr>\n",
       "<tr><td style=\"text-align: right;\">           6</td><td style=\"text-align: right;\">     5</td></tr>\n",
       "<tr><td style=\"text-align: right;\">           7</td><td style=\"text-align: right;\">     7</td></tr>\n",
       "<tr><td style=\"text-align: right;\">           6</td><td style=\"text-align: right;\">     6</td></tr>\n",
       "<tr><td style=\"text-align: right;\">           5</td><td style=\"text-align: right;\">     4</td></tr>\n",
       "<tr><td style=\"text-align: right;\">           5</td><td style=\"text-align: right;\">     5</td></tr>\n",
       "<tr><td style=\"text-align: right;\">           5</td><td style=\"text-align: right;\">     6</td></tr>\n",
       "<tr><td style=\"text-align: right;\">           3</td><td style=\"text-align: right;\">     5</td></tr>\n",
       "<tr><td style=\"text-align: right;\">           4</td><td style=\"text-align: right;\">     5</td></tr>\n",
       "<tr><td style=\"text-align: right;\">           5</td><td style=\"text-align: right;\">     6</td></tr>\n",
       "<tr><td style=\"text-align: right;\">           4</td><td style=\"text-align: right;\">     6</td></tr>\n",
       "<tr><td style=\"text-align: right;\">           5</td><td style=\"text-align: right;\">     5</td></tr>\n",
       "<tr><td style=\"text-align: right;\">           4</td><td style=\"text-align: right;\">     6</td></tr>\n",
       "<tr><td style=\"text-align: right;\">           6</td><td style=\"text-align: right;\">     6</td></tr>\n",
       "<tr><td style=\"text-align: right;\">           7</td><td style=\"text-align: right;\">     7</td></tr>\n",
       "<tr><td style=\"text-align: right;\">           7</td><td style=\"text-align: right;\">     4</td></tr>\n",
       "<tr><td style=\"text-align: right;\">           7</td><td style=\"text-align: right;\">     7</td></tr>\n",
       "<tr><td style=\"text-align: right;\">           5</td><td style=\"text-align: right;\">     7</td></tr>\n",
       "<tr><td style=\"text-align: right;\">           4</td><td style=\"text-align: right;\">     6</td></tr>\n",
       "<tr><td style=\"text-align: right;\">           3</td><td style=\"text-align: right;\">     5</td></tr>\n",
       "<tr><td style=\"text-align: right;\">           6</td><td style=\"text-align: right;\">     6</td></tr>\n",
       "<tr><td style=\"text-align: right;\">           5</td><td style=\"text-align: right;\">     6</td></tr>\n",
       "<tr><td style=\"text-align: right;\">           4</td><td style=\"text-align: right;\">     4</td></tr>\n",
       "<tr><td style=\"text-align: right;\">           4</td><td style=\"text-align: right;\">     5</td></tr>\n",
       "<tr><td style=\"text-align: right;\">           4</td><td style=\"text-align: right;\">     5</td></tr>\n",
       "<tr><td style=\"text-align: right;\">           7</td><td style=\"text-align: right;\">     5</td></tr>\n",
       "<tr><td style=\"text-align: right;\">           4</td><td style=\"text-align: right;\">     5</td></tr>\n",
       "<tr><td style=\"text-align: right;\">           5</td><td style=\"text-align: right;\">     5</td></tr>\n",
       "<tr><td style=\"text-align: right;\">           5</td><td style=\"text-align: right;\">     5</td></tr>\n",
       "<tr><td style=\"text-align: right;\">           5</td><td style=\"text-align: right;\">     6</td></tr>\n",
       "<tr><td style=\"text-align: right;\">           3</td><td style=\"text-align: right;\">     5</td></tr>\n",
       "<tr><td style=\"text-align: right;\">           6</td><td style=\"text-align: right;\">     6</td></tr>\n",
       "<tr><td style=\"text-align: right;\">           3</td><td style=\"text-align: right;\">     7</td></tr>\n",
       "<tr><td style=\"text-align: right;\">           2</td><td style=\"text-align: right;\">     5</td></tr>\n",
       "<tr><td style=\"text-align: right;\">           6</td><td style=\"text-align: right;\">     6</td></tr>\n",
       "<tr><td style=\"text-align: right;\">           4</td><td style=\"text-align: right;\">     5</td></tr>\n",
       "<tr><td style=\"text-align: right;\">           7</td><td style=\"text-align: right;\">     6</td></tr>\n",
       "<tr><td style=\"text-align: right;\">           3</td><td style=\"text-align: right;\">     4</td></tr>\n",
       "<tr><td style=\"text-align: right;\">           4</td><td style=\"text-align: right;\">     5</td></tr>\n",
       "<tr><td style=\"text-align: right;\">           4</td><td style=\"text-align: right;\">     6</td></tr>\n",
       "<tr><td style=\"text-align: right;\">           7</td><td style=\"text-align: right;\">     7</td></tr>\n",
       "<tr><td style=\"text-align: right;\">           3</td><td style=\"text-align: right;\">     4</td></tr>\n",
       "<tr><td style=\"text-align: right;\">           6</td><td style=\"text-align: right;\">     6</td></tr>\n",
       "<tr><td style=\"text-align: right;\">           4</td><td style=\"text-align: right;\">     6</td></tr>\n",
       "<tr><td style=\"text-align: right;\">           6</td><td style=\"text-align: right;\">     5</td></tr>\n",
       "<tr><td style=\"text-align: right;\">           4</td><td style=\"text-align: right;\">     4</td></tr>\n",
       "<tr><td style=\"text-align: right;\">           4</td><td style=\"text-align: right;\">     5</td></tr>\n",
       "<tr><td style=\"text-align: right;\">           3</td><td style=\"text-align: right;\">     4</td></tr>\n",
       "<tr><td style=\"text-align: right;\">           4</td><td style=\"text-align: right;\">     4</td></tr>\n",
       "<tr><td style=\"text-align: right;\">           7</td><td style=\"text-align: right;\">     5</td></tr>\n",
       "<tr><td style=\"text-align: right;\">           4</td><td style=\"text-align: right;\">     5</td></tr>\n",
       "<tr><td style=\"text-align: right;\">           4</td><td style=\"text-align: right;\">     4</td></tr>\n",
       "<tr><td style=\"text-align: right;\">           5</td><td style=\"text-align: right;\">     7</td></tr>\n",
       "<tr><td style=\"text-align: right;\">           4</td><td style=\"text-align: right;\">     5</td></tr>\n",
       "<tr><td style=\"text-align: right;\">           5</td><td style=\"text-align: right;\">     6</td></tr>\n",
       "<tr><td style=\"text-align: right;\">           2</td><td style=\"text-align: right;\">     5</td></tr>\n",
       "<tr><td style=\"text-align: right;\">           7</td><td style=\"text-align: right;\">     7</td></tr>\n",
       "<tr><td style=\"text-align: right;\">           3</td><td style=\"text-align: right;\">     5</td></tr>\n",
       "<tr><td style=\"text-align: right;\">           1</td><td style=\"text-align: right;\">     2</td></tr>\n",
       "<tr><td style=\"text-align: right;\">           6</td><td style=\"text-align: right;\">     6</td></tr>\n",
       "<tr><td style=\"text-align: right;\">           7</td><td style=\"text-align: right;\">     6</td></tr>\n",
       "<tr><td style=\"text-align: right;\">           4</td><td style=\"text-align: right;\">     6</td></tr>\n",
       "<tr><td style=\"text-align: right;\">           4</td><td style=\"text-align: right;\">     5</td></tr>\n",
       "<tr><td style=\"text-align: right;\">           5</td><td style=\"text-align: right;\">     5</td></tr>\n",
       "<tr><td style=\"text-align: right;\">           4</td><td style=\"text-align: right;\">     6</td></tr>\n",
       "<tr><td style=\"text-align: right;\">           2</td><td style=\"text-align: right;\">     5</td></tr>\n",
       "<tr><td style=\"text-align: right;\">           4</td><td style=\"text-align: right;\">     4</td></tr>\n",
       "<tr><td style=\"text-align: right;\">           4</td><td style=\"text-align: right;\">     4</td></tr>\n",
       "<tr><td style=\"text-align: right;\">           7</td><td style=\"text-align: right;\">     6</td></tr>\n",
       "<tr><td style=\"text-align: right;\">           5</td><td style=\"text-align: right;\">     4</td></tr>\n",
       "<tr><td style=\"text-align: right;\">           4</td><td style=\"text-align: right;\">     4</td></tr>\n",
       "<tr><td style=\"text-align: right;\">           5</td><td style=\"text-align: right;\">     6</td></tr>\n",
       "<tr><td style=\"text-align: right;\">           6</td><td style=\"text-align: right;\">     7</td></tr>\n",
       "<tr><td style=\"text-align: right;\">           6</td><td style=\"text-align: right;\">     4</td></tr>\n",
       "<tr><td style=\"text-align: right;\">           6</td><td style=\"text-align: right;\">     6</td></tr>\n",
       "<tr><td style=\"text-align: right;\">           6</td><td style=\"text-align: right;\">     6</td></tr>\n",
       "<tr><td style=\"text-align: right;\">           6</td><td style=\"text-align: right;\">     6</td></tr>\n",
       "<tr><td style=\"text-align: right;\">           6</td><td style=\"text-align: right;\">     7</td></tr>\n",
       "<tr><td style=\"text-align: right;\">           7</td><td style=\"text-align: right;\">     7</td></tr>\n",
       "<tr><td style=\"text-align: right;\">           5</td><td style=\"text-align: right;\">     6</td></tr>\n",
       "<tr><td style=\"text-align: right;\">           5</td><td style=\"text-align: right;\">     5</td></tr>\n",
       "<tr><td style=\"text-align: right;\">           6</td><td style=\"text-align: right;\">     6</td></tr>\n",
       "<tr><td style=\"text-align: right;\">           2</td><td style=\"text-align: right;\">     5</td></tr>\n",
       "<tr><td style=\"text-align: right;\">           6</td><td style=\"text-align: right;\">     7</td></tr>\n",
       "<tr><td style=\"text-align: right;\">           5</td><td style=\"text-align: right;\">     6</td></tr>\n",
       "<tr><td style=\"text-align: right;\">           5</td><td style=\"text-align: right;\">     7</td></tr>\n",
       "<tr><td style=\"text-align: right;\">           7</td><td style=\"text-align: right;\">     7</td></tr>\n",
       "<tr><td style=\"text-align: right;\">           4</td><td style=\"text-align: right;\">     5</td></tr>\n",
       "<tr><td style=\"text-align: right;\">           6</td><td style=\"text-align: right;\">     5</td></tr>\n",
       "<tr><td style=\"text-align: right;\">           6</td><td style=\"text-align: right;\">     6</td></tr>\n",
       "<tr><td style=\"text-align: right;\">           5</td><td style=\"text-align: right;\">     5</td></tr>\n",
       "<tr><td style=\"text-align: right;\">           2</td><td style=\"text-align: right;\">     5</td></tr>\n",
       "<tr><td style=\"text-align: right;\">           1</td><td style=\"text-align: right;\">     7</td></tr>\n",
       "<tr><td style=\"text-align: right;\">           4</td><td style=\"text-align: right;\">     5</td></tr>\n",
       "<tr><td style=\"text-align: right;\">           6</td><td style=\"text-align: right;\">     4</td></tr>\n",
       "<tr><td style=\"text-align: right;\">           6</td><td style=\"text-align: right;\">     7</td></tr>\n",
       "<tr><td style=\"text-align: right;\">           5</td><td style=\"text-align: right;\">     4</td></tr>\n",
       "<tr><td style=\"text-align: right;\">           4</td><td style=\"text-align: right;\">     5</td></tr>\n",
       "<tr><td style=\"text-align: right;\">           2</td><td style=\"text-align: right;\">     3</td></tr>\n",
       "<tr><td style=\"text-align: right;\">           6</td><td style=\"text-align: right;\">     5</td></tr>\n",
       "<tr><td style=\"text-align: right;\">           3</td><td style=\"text-align: right;\">     5</td></tr>\n",
       "<tr><td style=\"text-align: right;\">           2</td><td style=\"text-align: right;\">     2</td></tr>\n",
       "<tr><td style=\"text-align: right;\">           4</td><td style=\"text-align: right;\">     5</td></tr>\n",
       "<tr><td style=\"text-align: right;\">           4</td><td style=\"text-align: right;\">     5</td></tr>\n",
       "<tr><td style=\"text-align: right;\">           1</td><td style=\"text-align: right;\">     2</td></tr>\n",
       "<tr><td style=\"text-align: right;\">           2</td><td style=\"text-align: right;\">     4</td></tr>\n",
       "<tr><td style=\"text-align: right;\">           4</td><td style=\"text-align: right;\">     5</td></tr>\n",
       "<tr><td style=\"text-align: right;\">           6</td><td style=\"text-align: right;\">     4</td></tr>\n",
       "<tr><td style=\"text-align: right;\">           5</td><td style=\"text-align: right;\">     4</td></tr>\n",
       "<tr><td style=\"text-align: right;\">           3</td><td style=\"text-align: right;\">     6</td></tr>\n",
       "<tr><td style=\"text-align: right;\">           5</td><td style=\"text-align: right;\">     4</td></tr>\n",
       "<tr><td style=\"text-align: right;\">           5</td><td style=\"text-align: right;\">     5</td></tr>\n",
       "<tr><td style=\"text-align: right;\">           4</td><td style=\"text-align: right;\">     5</td></tr>\n",
       "<tr><td style=\"text-align: right;\">           7</td><td style=\"text-align: right;\">     7</td></tr>\n",
       "<tr><td style=\"text-align: right;\">           5</td><td style=\"text-align: right;\">     6</td></tr>\n",
       "<tr><td style=\"text-align: right;\">           2</td><td style=\"text-align: right;\">     3</td></tr>\n",
       "<tr><td style=\"text-align: right;\">           2</td><td style=\"text-align: right;\">     4</td></tr>\n",
       "<tr><td style=\"text-align: right;\">           2</td><td style=\"text-align: right;\">     4</td></tr>\n",
       "<tr><td style=\"text-align: right;\">           4</td><td style=\"text-align: right;\">     5</td></tr>\n",
       "<tr><td style=\"text-align: right;\">           2</td><td style=\"text-align: right;\">     6</td></tr>\n",
       "<tr><td style=\"text-align: right;\">           2</td><td style=\"text-align: right;\">     4</td></tr>\n",
       "<tr><td style=\"text-align: right;\">           4</td><td style=\"text-align: right;\">     4</td></tr>\n",
       "<tr><td style=\"text-align: right;\">           6</td><td style=\"text-align: right;\">     6</td></tr>\n",
       "<tr><td style=\"text-align: right;\">           5</td><td style=\"text-align: right;\">     6</td></tr>\n",
       "<tr><td style=\"text-align: right;\">           3</td><td style=\"text-align: right;\">     4</td></tr>\n",
       "<tr><td style=\"text-align: right;\">           5</td><td style=\"text-align: right;\">     5</td></tr>\n",
       "<tr><td style=\"text-align: right;\">           2</td><td style=\"text-align: right;\">     2</td></tr>\n",
       "<tr><td style=\"text-align: right;\">           4</td><td style=\"text-align: right;\">     4</td></tr>\n",
       "<tr><td style=\"text-align: right;\">           6</td><td style=\"text-align: right;\">     6</td></tr>\n",
       "<tr><td style=\"text-align: right;\">           7</td><td style=\"text-align: right;\">     2</td></tr>\n",
       "<tr><td style=\"text-align: right;\">           2</td><td style=\"text-align: right;\">     6</td></tr>\n",
       "<tr><td style=\"text-align: right;\">           3</td><td style=\"text-align: right;\">     4</td></tr>\n",
       "<tr><td style=\"text-align: right;\">           5</td><td style=\"text-align: right;\">     6</td></tr>\n",
       "<tr><td style=\"text-align: right;\">           3</td><td style=\"text-align: right;\">     5</td></tr>\n",
       "<tr><td style=\"text-align: right;\">           2</td><td style=\"text-align: right;\">     1</td></tr>\n",
       "<tr><td style=\"text-align: right;\">           2</td><td style=\"text-align: right;\">     5</td></tr>\n",
       "<tr><td style=\"text-align: right;\">           2</td><td style=\"text-align: right;\">     4</td></tr>\n",
       "<tr><td style=\"text-align: right;\">           4</td><td style=\"text-align: right;\">     5</td></tr>\n",
       "<tr><td style=\"text-align: right;\">           4</td><td style=\"text-align: right;\">     4</td></tr>\n",
       "<tr><td style=\"text-align: right;\">           6</td><td style=\"text-align: right;\">     4</td></tr>\n",
       "<tr><td style=\"text-align: right;\">           3</td><td style=\"text-align: right;\">     4</td></tr>\n",
       "<tr><td style=\"text-align: right;\">           6</td><td style=\"text-align: right;\">     5</td></tr>\n",
       "<tr><td style=\"text-align: right;\">           5</td><td style=\"text-align: right;\">     5</td></tr>\n",
       "<tr><td style=\"text-align: right;\">           6</td><td style=\"text-align: right;\">     6</td></tr>\n",
       "<tr><td style=\"text-align: right;\">           4</td><td style=\"text-align: right;\">     5</td></tr>\n",
       "<tr><td style=\"text-align: right;\">           7</td><td style=\"text-align: right;\">     7</td></tr>\n",
       "<tr><td style=\"text-align: right;\">           3</td><td style=\"text-align: right;\">     4</td></tr>\n",
       "<tr><td style=\"text-align: right;\">           3</td><td style=\"text-align: right;\">     4</td></tr>\n",
       "<tr><td style=\"text-align: right;\">           4</td><td style=\"text-align: right;\">     3</td></tr>\n",
       "<tr><td style=\"text-align: right;\">           5</td><td style=\"text-align: right;\">     6</td></tr>\n",
       "<tr><td style=\"text-align: right;\">           6</td><td style=\"text-align: right;\">     6</td></tr>\n",
       "<tr><td style=\"text-align: right;\">           4</td><td style=\"text-align: right;\">     3</td></tr>\n",
       "<tr><td style=\"text-align: right;\">           4</td><td style=\"text-align: right;\">     4</td></tr>\n",
       "<tr><td style=\"text-align: right;\">           4</td><td style=\"text-align: right;\">     6</td></tr>\n",
       "<tr><td style=\"text-align: right;\">           6</td><td style=\"text-align: right;\">     6</td></tr>\n",
       "<tr><td style=\"text-align: right;\">           6</td><td style=\"text-align: right;\">     4</td></tr>\n",
       "<tr><td style=\"text-align: right;\">           4</td><td style=\"text-align: right;\">     5</td></tr>\n",
       "<tr><td style=\"text-align: right;\">           6</td><td style=\"text-align: right;\">     6</td></tr>\n",
       "<tr><td style=\"text-align: right;\">           6</td><td style=\"text-align: right;\">     7</td></tr>\n",
       "<tr><td style=\"text-align: right;\">           5</td><td style=\"text-align: right;\">     5</td></tr>\n",
       "<tr><td style=\"text-align: right;\">           4</td><td style=\"text-align: right;\">     6</td></tr>\n",
       "<tr><td style=\"text-align: right;\">           5</td><td style=\"text-align: right;\">     7</td></tr>\n",
       "<tr><td style=\"text-align: right;\">           6</td><td style=\"text-align: right;\">     6</td></tr>\n",
       "<tr><td style=\"text-align: right;\">           4</td><td style=\"text-align: right;\">     4</td></tr>\n",
       "<tr><td style=\"text-align: right;\">           3</td><td style=\"text-align: right;\">     5</td></tr>\n",
       "<tr><td style=\"text-align: right;\">           4</td><td style=\"text-align: right;\">     4</td></tr>\n",
       "<tr><td style=\"text-align: right;\">           4</td><td style=\"text-align: right;\">     5</td></tr>\n",
       "<tr><td style=\"text-align: right;\">           5</td><td style=\"text-align: right;\">     5</td></tr>\n",
       "<tr><td style=\"text-align: right;\">           4</td><td style=\"text-align: right;\">     5</td></tr>\n",
       "<tr><td style=\"text-align: right;\">           3</td><td style=\"text-align: right;\">     4</td></tr>\n",
       "<tr><td style=\"text-align: right;\">           6</td><td style=\"text-align: right;\">     7</td></tr>\n",
       "<tr><td style=\"text-align: right;\">           5</td><td style=\"text-align: right;\">     6</td></tr>\n",
       "<tr><td style=\"text-align: right;\">           5</td><td style=\"text-align: right;\">     7</td></tr>\n",
       "<tr><td style=\"text-align: right;\">           2</td><td style=\"text-align: right;\">     5</td></tr>\n",
       "<tr><td style=\"text-align: right;\">           5</td><td style=\"text-align: right;\">     5</td></tr>\n",
       "<tr><td style=\"text-align: right;\">           5</td><td style=\"text-align: right;\">     5</td></tr>\n",
       "<tr><td style=\"text-align: right;\">           5</td><td style=\"text-align: right;\">     4</td></tr>\n",
       "<tr><td style=\"text-align: right;\">           7</td><td style=\"text-align: right;\">     5</td></tr>\n",
       "<tr><td style=\"text-align: right;\">           4</td><td style=\"text-align: right;\">     5</td></tr>\n",
       "<tr><td style=\"text-align: right;\">           7</td><td style=\"text-align: right;\">     5</td></tr>\n",
       "<tr><td style=\"text-align: right;\">           7</td><td style=\"text-align: right;\">     7</td></tr>\n",
       "<tr><td style=\"text-align: right;\">           2</td><td style=\"text-align: right;\">     3</td></tr>\n",
       "<tr><td style=\"text-align: right;\">           4</td><td style=\"text-align: right;\">     4</td></tr>\n",
       "<tr><td style=\"text-align: right;\">           5</td><td style=\"text-align: right;\">     4</td></tr>\n",
       "<tr><td style=\"text-align: right;\">           4</td><td style=\"text-align: right;\">     5</td></tr>\n",
       "<tr><td style=\"text-align: right;\">           4</td><td style=\"text-align: right;\">     4</td></tr>\n",
       "<tr><td style=\"text-align: right;\">           2</td><td style=\"text-align: right;\">     4</td></tr>\n",
       "<tr><td style=\"text-align: right;\">           5</td><td style=\"text-align: right;\">     6</td></tr>\n",
       "<tr><td style=\"text-align: right;\">           1</td><td style=\"text-align: right;\">     4</td></tr>\n",
       "<tr><td style=\"text-align: right;\">           7</td><td style=\"text-align: right;\">     7</td></tr>\n",
       "<tr><td style=\"text-align: right;\">           5</td><td style=\"text-align: right;\">     7</td></tr>\n",
       "<tr><td style=\"text-align: right;\">           2</td><td style=\"text-align: right;\">     4</td></tr>\n",
       "<tr><td style=\"text-align: right;\">           7</td><td style=\"text-align: right;\">     6</td></tr>\n",
       "<tr><td style=\"text-align: right;\">           6</td><td style=\"text-align: right;\">     6</td></tr>\n",
       "<tr><td style=\"text-align: right;\">           7</td><td style=\"text-align: right;\">     6</td></tr>\n",
       "<tr><td style=\"text-align: right;\">           4</td><td style=\"text-align: right;\">     5</td></tr>\n",
       "<tr><td style=\"text-align: right;\">           4</td><td style=\"text-align: right;\">     4</td></tr>\n",
       "<tr><td style=\"text-align: right;\">           4</td><td style=\"text-align: right;\">     5</td></tr>\n",
       "<tr><td style=\"text-align: right;\">           5</td><td style=\"text-align: right;\">     5</td></tr>\n",
       "<tr><td style=\"text-align: right;\">           4</td><td style=\"text-align: right;\">     6</td></tr>\n",
       "<tr><td style=\"text-align: right;\">           3</td><td style=\"text-align: right;\">     6</td></tr>\n",
       "<tr><td style=\"text-align: right;\">           5</td><td style=\"text-align: right;\">     6</td></tr>\n",
       "<tr><td style=\"text-align: right;\">           5</td><td style=\"text-align: right;\">     4</td></tr>\n",
       "<tr><td style=\"text-align: right;\">           2</td><td style=\"text-align: right;\">     3</td></tr>\n",
       "<tr><td style=\"text-align: right;\">           4</td><td style=\"text-align: right;\">     4</td></tr>\n",
       "<tr><td style=\"text-align: right;\">           4</td><td style=\"text-align: right;\">     4</td></tr>\n",
       "<tr><td style=\"text-align: right;\">           5</td><td style=\"text-align: right;\">     5</td></tr>\n",
       "<tr><td style=\"text-align: right;\">           4</td><td style=\"text-align: right;\">     4</td></tr>\n",
       "<tr><td style=\"text-align: right;\">           4</td><td style=\"text-align: right;\">     4</td></tr>\n",
       "<tr><td style=\"text-align: right;\">           6</td><td style=\"text-align: right;\">     5</td></tr>\n",
       "<tr><td style=\"text-align: right;\">           5</td><td style=\"text-align: right;\">     4</td></tr>\n",
       "<tr><td style=\"text-align: right;\">           5</td><td style=\"text-align: right;\">     6</td></tr>\n",
       "<tr><td style=\"text-align: right;\">           4</td><td style=\"text-align: right;\">     5</td></tr>\n",
       "<tr><td style=\"text-align: right;\">           4</td><td style=\"text-align: right;\">     5</td></tr>\n",
       "<tr><td style=\"text-align: right;\">           4</td><td style=\"text-align: right;\">     5</td></tr>\n",
       "<tr><td style=\"text-align: right;\">           3</td><td style=\"text-align: right;\">     5</td></tr>\n",
       "<tr><td style=\"text-align: right;\">           5</td><td style=\"text-align: right;\">     4</td></tr>\n",
       "<tr><td style=\"text-align: right;\">           5</td><td style=\"text-align: right;\">     6</td></tr>\n",
       "<tr><td style=\"text-align: right;\">           4</td><td style=\"text-align: right;\">     4</td></tr>\n",
       "<tr><td style=\"text-align: right;\">           5</td><td style=\"text-align: right;\">     5</td></tr>\n",
       "<tr><td style=\"text-align: right;\">           3</td><td style=\"text-align: right;\">     4</td></tr>\n",
       "<tr><td style=\"text-align: right;\">           5</td><td style=\"text-align: right;\">     5</td></tr>\n",
       "<tr><td style=\"text-align: right;\">           4</td><td style=\"text-align: right;\">     6</td></tr>\n",
       "<tr><td style=\"text-align: right;\">           2</td><td style=\"text-align: right;\">     3</td></tr>\n",
       "<tr><td style=\"text-align: right;\">           5</td><td style=\"text-align: right;\">     5</td></tr>\n",
       "<tr><td style=\"text-align: right;\">           4</td><td style=\"text-align: right;\">     5</td></tr>\n",
       "<tr><td style=\"text-align: right;\">           3</td><td style=\"text-align: right;\">     3</td></tr>\n",
       "<tr><td style=\"text-align: right;\">           4</td><td style=\"text-align: right;\">     5</td></tr>\n",
       "<tr><td style=\"text-align: right;\">           2</td><td style=\"text-align: right;\">     5</td></tr>\n",
       "<tr><td style=\"text-align: right;\">           6</td><td style=\"text-align: right;\">     6</td></tr>\n",
       "<tr><td style=\"text-align: right;\">           2</td><td style=\"text-align: right;\">     4</td></tr>\n",
       "<tr><td style=\"text-align: right;\">           2</td><td style=\"text-align: right;\">     4</td></tr>\n",
       "<tr><td style=\"text-align: right;\">           5</td><td style=\"text-align: right;\">     6</td></tr>\n",
       "</tbody>\n",
       "</table>"
      ],
      "text/plain": [
       "'<table>\\n<thead>\\n<tr><th style=\"text-align: right;\">  difficulty</th><th style=\"text-align: right;\">  pace</th></tr>\\n</thead>\\n<tbody>\\n<tr><td style=\"text-align: right;\">           1</td><td style=\"text-align: right;\">     1</td></tr>\\n<tr><td style=\"text-align: right;\">           6</td><td style=\"text-align: right;\">     6</td></tr>\\n<tr><td style=\"text-align: right;\">           4</td><td style=\"text-align: right;\">     6</td></tr>\\n<tr><td style=\"text-align: right;\">           4</td><td style=\"text-align: right;\">     4</td></tr>\\n<tr><td style=\"text-align: right;\">           5</td><td style=\"text-align: right;\">     6</td></tr>\\n<tr><td style=\"text-align: right;\">           3</td><td style=\"text-align: right;\">     4</td></tr>\\n<tr><td style=\"text-align: right;\">           4</td><td style=\"text-align: right;\">     4</td></tr>\\n<tr><td style=\"text-align: right;\">           4</td><td style=\"text-align: right;\">     4</td></tr>\\n<tr><td style=\"text-align: right;\">           4</td><td style=\"text-align: right;\">     5</td></tr>\\n<tr><td style=\"text-align: right;\">           4</td><td style=\"text-align: right;\">     7</td></tr>\\n<tr><td style=\"text-align: right;\">           3</td><td style=\"text-align: right;\">     5</td></tr>\\n<tr><td style=\"text-align: right;\">           4</td><td style=\"text-align: right;\">     6</td></tr>\\n<tr><td style=\"text-align: right;\">           5</td><td style=\"text-align: right;\">     5</td></tr>\\n<tr><td style=\"text-align: right;\">           3</td><td style=\"text-align: right;\">     4</td></tr>\\n<tr><td style=\"text-align: right;\">           4</td><td style=\"text-align: right;\">     4</td></tr>\\n<tr><td style=\"text-align: right;\">           7</td><td style=\"text-align: right;\">     5</td></tr>\\n<tr><td style=\"text-align: right;\">           7</td><td style=\"text-align: right;\">     6</td></tr>\\n<tr><td style=\"text-align: right;\">           4</td><td style=\"text-align: right;\">     4</td></tr>\\n<tr><td style=\"text-align: right;\">           7</td><td style=\"text-align: right;\">     5</td></tr>\\n<tr><td style=\"text-align: right;\">           2</td><td style=\"text-align: right;\">     4</td></tr>\\n<tr><td style=\"text-align: right;\">           4</td><td style=\"text-align: right;\">     6</td></tr>\\n<tr><td style=\"text-align: right;\">           5</td><td style=\"text-align: right;\">     5</td></tr>\\n<tr><td style=\"text-align: right;\">           5</td><td style=\"text-align: right;\">     5</td></tr>\\n<tr><td style=\"text-align: right;\">           6</td><td style=\"text-align: right;\">     5</td></tr>\\n<tr><td style=\"text-align: right;\">           7</td><td style=\"text-align: right;\">     7</td></tr>\\n<tr><td style=\"text-align: right;\">           5</td><td style=\"text-align: right;\">     4</td></tr>\\n<tr><td style=\"text-align: right;\">           4</td><td style=\"text-align: right;\">     5</td></tr>\\n<tr><td style=\"text-align: right;\">           4</td><td style=\"text-align: right;\">     6</td></tr>\\n<tr><td style=\"text-align: right;\">           3</td><td style=\"text-align: right;\">     4</td></tr>\\n<tr><td style=\"text-align: right;\">           5</td><td style=\"text-align: right;\">     5</td></tr>\\n<tr><td style=\"text-align: right;\">           6</td><td style=\"text-align: right;\">     6</td></tr>\\n<tr><td style=\"text-align: right;\">           5</td><td style=\"text-align: right;\">     5</td></tr>\\n<tr><td style=\"text-align: right;\">           6</td><td style=\"text-align: right;\">     6</td></tr>\\n<tr><td style=\"text-align: right;\">           4</td><td style=\"text-align: right;\">     5</td></tr>\\n<tr><td style=\"text-align: right;\">           4</td><td style=\"text-align: right;\">     5</td></tr>\\n<tr><td style=\"text-align: right;\">           4</td><td style=\"text-align: right;\">     5</td></tr>\\n<tr><td style=\"text-align: right;\">           6</td><td style=\"text-align: right;\">     6</td></tr>\\n<tr><td style=\"text-align: right;\">           5</td><td style=\"text-align: right;\">     5</td></tr>\\n<tr><td style=\"text-align: right;\">           3</td><td style=\"text-align: right;\">     4</td></tr>\\n<tr><td style=\"text-align: right;\">           5</td><td style=\"text-align: right;\">     5</td></tr>\\n<tr><td style=\"text-align: right;\">           3</td><td style=\"text-align: right;\">     4</td></tr>\\n<tr><td style=\"text-align: right;\">           5</td><td style=\"text-align: right;\">     4</td></tr>\\n<tr><td style=\"text-align: right;\">           5</td><td style=\"text-align: right;\">     4</td></tr>\\n<tr><td style=\"text-align: right;\">           7</td><td style=\"text-align: right;\">     5</td></tr>\\n<tr><td style=\"text-align: right;\">           5</td><td style=\"text-align: right;\">     6</td></tr>\\n<tr><td style=\"text-align: right;\">           3</td><td style=\"text-align: right;\">     4</td></tr>\\n<tr><td style=\"text-align: right;\">           4</td><td style=\"text-align: right;\">     4</td></tr>\\n<tr><td style=\"text-align: right;\">           4</td><td style=\"text-align: right;\">     5</td></tr>\\n<tr><td style=\"text-align: right;\">           6</td><td style=\"text-align: right;\">     6</td></tr>\\n<tr><td style=\"text-align: right;\">           3</td><td style=\"text-align: right;\">     4</td></tr>\\n<tr><td style=\"text-align: right;\">           4</td><td style=\"text-align: right;\">     4</td></tr>\\n<tr><td style=\"text-align: right;\">           4</td><td style=\"text-align: right;\">     6</td></tr>\\n<tr><td style=\"text-align: right;\">           5</td><td style=\"text-align: right;\">     5</td></tr>\\n<tr><td style=\"text-align: right;\">           1</td><td style=\"text-align: right;\">     7</td></tr>\\n<tr><td style=\"text-align: right;\">           1</td><td style=\"text-align: right;\">     4</td></tr>\\n<tr><td style=\"text-align: right;\">           5</td><td style=\"text-align: right;\">     7</td></tr>\\n<tr><td style=\"text-align: right;\">           6</td><td style=\"text-align: right;\">     5</td></tr>\\n<tr><td style=\"text-align: right;\">           4</td><td style=\"text-align: right;\">     4</td></tr>\\n<tr><td style=\"text-align: right;\">           4</td><td style=\"text-align: right;\">     4</td></tr>\\n<tr><td style=\"text-align: right;\">           5</td><td style=\"text-align: right;\">     7</td></tr>\\n<tr><td style=\"text-align: right;\">           2</td><td style=\"text-align: right;\">     4</td></tr>\\n<tr><td style=\"text-align: right;\">           4</td><td style=\"text-align: right;\">     6</td></tr>\\n<tr><td style=\"text-align: right;\">           5</td><td style=\"text-align: right;\">     5</td></tr>\\n<tr><td style=\"text-align: right;\">           5</td><td style=\"text-align: right;\">     5</td></tr>\\n<tr><td style=\"text-align: right;\">           2</td><td style=\"text-align: right;\">     5</td></tr>\\n<tr><td style=\"text-align: right;\">           5</td><td style=\"text-align: right;\">     4</td></tr>\\n<tr><td style=\"text-align: right;\">           3</td><td style=\"text-align: right;\">     4</td></tr>\\n<tr><td style=\"text-align: right;\">           6</td><td style=\"text-align: right;\">     5</td></tr>\\n<tr><td style=\"text-align: right;\">           4</td><td style=\"text-align: right;\">     5</td></tr>\\n<tr><td style=\"text-align: right;\">           6</td><td style=\"text-align: right;\">     5</td></tr>\\n<tr><td style=\"text-align: right;\">           5</td><td style=\"text-align: right;\">     7</td></tr>\\n<tr><td style=\"text-align: right;\">           7</td><td style=\"text-align: right;\">     6</td></tr>\\n<tr><td style=\"text-align: right;\">           3</td><td style=\"text-align: right;\">     3</td></tr>\\n<tr><td style=\"text-align: right;\">           5</td><td style=\"text-align: right;\">     5</td></tr>\\n<tr><td style=\"text-align: right;\">           3</td><td style=\"text-align: right;\">     4</td></tr>\\n<tr><td style=\"text-align: right;\">           2</td><td style=\"text-align: right;\">     5</td></tr>\\n<tr><td style=\"text-align: right;\">           5</td><td style=\"text-align: right;\">     5</td></tr>\\n<tr><td style=\"text-align: right;\">           3</td><td style=\"text-align: right;\">     7</td></tr>\\n<tr><td style=\"text-align: right;\">           6</td><td style=\"text-align: right;\">     5</td></tr>\\n<tr><td style=\"text-align: right;\">           7</td><td style=\"text-align: right;\">     7</td></tr>\\n<tr><td style=\"text-align: right;\">           6</td><td style=\"text-align: right;\">     6</td></tr>\\n<tr><td style=\"text-align: right;\">           5</td><td style=\"text-align: right;\">     4</td></tr>\\n<tr><td style=\"text-align: right;\">           5</td><td style=\"text-align: right;\">     5</td></tr>\\n<tr><td style=\"text-align: right;\">           5</td><td style=\"text-align: right;\">     6</td></tr>\\n<tr><td style=\"text-align: right;\">           3</td><td style=\"text-align: right;\">     5</td></tr>\\n<tr><td style=\"text-align: right;\">           4</td><td style=\"text-align: right;\">     5</td></tr>\\n<tr><td style=\"text-align: right;\">           5</td><td style=\"text-align: right;\">     6</td></tr>\\n<tr><td style=\"text-align: right;\">           4</td><td style=\"text-align: right;\">     6</td></tr>\\n<tr><td style=\"text-align: right;\">           5</td><td style=\"text-align: right;\">     5</td></tr>\\n<tr><td style=\"text-align: right;\">           4</td><td style=\"text-align: right;\">     6</td></tr>\\n<tr><td style=\"text-align: right;\">           6</td><td style=\"text-align: right;\">     6</td></tr>\\n<tr><td style=\"text-align: right;\">           7</td><td style=\"text-align: right;\">     7</td></tr>\\n<tr><td style=\"text-align: right;\">           7</td><td style=\"text-align: right;\">     4</td></tr>\\n<tr><td style=\"text-align: right;\">           7</td><td style=\"text-align: right;\">     7</td></tr>\\n<tr><td style=\"text-align: right;\">           5</td><td style=\"text-align: right;\">     7</td></tr>\\n<tr><td style=\"text-align: right;\">           4</td><td style=\"text-align: right;\">     6</td></tr>\\n<tr><td style=\"text-align: right;\">           3</td><td style=\"text-align: right;\">     5</td></tr>\\n<tr><td style=\"text-align: right;\">           6</td><td style=\"text-align: right;\">     6</td></tr>\\n<tr><td style=\"text-align: right;\">           5</td><td style=\"text-align: right;\">     6</td></tr>\\n<tr><td style=\"text-align: right;\">           4</td><td style=\"text-align: right;\">     4</td></tr>\\n<tr><td style=\"text-align: right;\">           4</td><td style=\"text-align: right;\">     5</td></tr>\\n<tr><td style=\"text-align: right;\">           4</td><td style=\"text-align: right;\">     5</td></tr>\\n<tr><td style=\"text-align: right;\">           7</td><td style=\"text-align: right;\">     5</td></tr>\\n<tr><td style=\"text-align: right;\">           4</td><td style=\"text-align: right;\">     5</td></tr>\\n<tr><td style=\"text-align: right;\">           5</td><td style=\"text-align: right;\">     5</td></tr>\\n<tr><td style=\"text-align: right;\">           5</td><td style=\"text-align: right;\">     5</td></tr>\\n<tr><td style=\"text-align: right;\">           5</td><td style=\"text-align: right;\">     6</td></tr>\\n<tr><td style=\"text-align: right;\">           3</td><td style=\"text-align: right;\">     5</td></tr>\\n<tr><td style=\"text-align: right;\">           6</td><td style=\"text-align: right;\">     6</td></tr>\\n<tr><td style=\"text-align: right;\">           3</td><td style=\"text-align: right;\">     7</td></tr>\\n<tr><td style=\"text-align: right;\">           2</td><td style=\"text-align: right;\">     5</td></tr>\\n<tr><td style=\"text-align: right;\">           6</td><td style=\"text-align: right;\">     6</td></tr>\\n<tr><td style=\"text-align: right;\">           4</td><td style=\"text-align: right;\">     5</td></tr>\\n<tr><td style=\"text-align: right;\">           7</td><td style=\"text-align: right;\">     6</td></tr>\\n<tr><td style=\"text-align: right;\">           3</td><td style=\"text-align: right;\">     4</td></tr>\\n<tr><td style=\"text-align: right;\">           4</td><td style=\"text-align: right;\">     5</td></tr>\\n<tr><td style=\"text-align: right;\">           4</td><td style=\"text-align: right;\">     6</td></tr>\\n<tr><td style=\"text-align: right;\">           7</td><td style=\"text-align: right;\">     7</td></tr>\\n<tr><td style=\"text-align: right;\">           3</td><td style=\"text-align: right;\">     4</td></tr>\\n<tr><td style=\"text-align: right;\">           6</td><td style=\"text-align: right;\">     6</td></tr>\\n<tr><td style=\"text-align: right;\">           4</td><td style=\"text-align: right;\">     6</td></tr>\\n<tr><td style=\"text-align: right;\">           6</td><td style=\"text-align: right;\">     5</td></tr>\\n<tr><td style=\"text-align: right;\">           4</td><td style=\"text-align: right;\">     4</td></tr>\\n<tr><td style=\"text-align: right;\">           4</td><td style=\"text-align: right;\">     5</td></tr>\\n<tr><td style=\"text-align: right;\">           3</td><td style=\"text-align: right;\">     4</td></tr>\\n<tr><td style=\"text-align: right;\">           4</td><td style=\"text-align: right;\">     4</td></tr>\\n<tr><td style=\"text-align: right;\">           7</td><td style=\"text-align: right;\">     5</td></tr>\\n<tr><td style=\"text-align: right;\">           4</td><td style=\"text-align: right;\">     5</td></tr>\\n<tr><td style=\"text-align: right;\">           4</td><td style=\"text-align: right;\">     4</td></tr>\\n<tr><td style=\"text-align: right;\">           5</td><td style=\"text-align: right;\">     7</td></tr>\\n<tr><td style=\"text-align: right;\">           4</td><td style=\"text-align: right;\">     5</td></tr>\\n<tr><td style=\"text-align: right;\">           5</td><td style=\"text-align: right;\">     6</td></tr>\\n<tr><td style=\"text-align: right;\">           2</td><td style=\"text-align: right;\">     5</td></tr>\\n<tr><td style=\"text-align: right;\">           7</td><td style=\"text-align: right;\">     7</td></tr>\\n<tr><td style=\"text-align: right;\">           3</td><td style=\"text-align: right;\">     5</td></tr>\\n<tr><td style=\"text-align: right;\">           1</td><td style=\"text-align: right;\">     2</td></tr>\\n<tr><td style=\"text-align: right;\">           6</td><td style=\"text-align: right;\">     6</td></tr>\\n<tr><td style=\"text-align: right;\">           7</td><td style=\"text-align: right;\">     6</td></tr>\\n<tr><td style=\"text-align: right;\">           4</td><td style=\"text-align: right;\">     6</td></tr>\\n<tr><td style=\"text-align: right;\">           4</td><td style=\"text-align: right;\">     5</td></tr>\\n<tr><td style=\"text-align: right;\">           5</td><td style=\"text-align: right;\">     5</td></tr>\\n<tr><td style=\"text-align: right;\">           4</td><td style=\"text-align: right;\">     6</td></tr>\\n<tr><td style=\"text-align: right;\">           2</td><td style=\"text-align: right;\">     5</td></tr>\\n<tr><td style=\"text-align: right;\">           4</td><td style=\"text-align: right;\">     4</td></tr>\\n<tr><td style=\"text-align: right;\">           4</td><td style=\"text-align: right;\">     4</td></tr>\\n<tr><td style=\"text-align: right;\">           7</td><td style=\"text-align: right;\">     6</td></tr>\\n<tr><td style=\"text-align: right;\">           5</td><td style=\"text-align: right;\">     4</td></tr>\\n<tr><td style=\"text-align: right;\">           4</td><td style=\"text-align: right;\">     4</td></tr>\\n<tr><td style=\"text-align: right;\">           5</td><td style=\"text-align: right;\">     6</td></tr>\\n<tr><td style=\"text-align: right;\">           6</td><td style=\"text-align: right;\">     7</td></tr>\\n<tr><td style=\"text-align: right;\">           6</td><td style=\"text-align: right;\">     4</td></tr>\\n<tr><td style=\"text-align: right;\">           6</td><td style=\"text-align: right;\">     6</td></tr>\\n<tr><td style=\"text-align: right;\">           6</td><td style=\"text-align: right;\">     6</td></tr>\\n<tr><td style=\"text-align: right;\">           6</td><td style=\"text-align: right;\">     6</td></tr>\\n<tr><td style=\"text-align: right;\">           6</td><td style=\"text-align: right;\">     7</td></tr>\\n<tr><td style=\"text-align: right;\">           7</td><td style=\"text-align: right;\">     7</td></tr>\\n<tr><td style=\"text-align: right;\">           5</td><td style=\"text-align: right;\">     6</td></tr>\\n<tr><td style=\"text-align: right;\">           5</td><td style=\"text-align: right;\">     5</td></tr>\\n<tr><td style=\"text-align: right;\">           6</td><td style=\"text-align: right;\">     6</td></tr>\\n<tr><td style=\"text-align: right;\">           2</td><td style=\"text-align: right;\">     5</td></tr>\\n<tr><td style=\"text-align: right;\">           6</td><td style=\"text-align: right;\">     7</td></tr>\\n<tr><td style=\"text-align: right;\">           5</td><td style=\"text-align: right;\">     6</td></tr>\\n<tr><td style=\"text-align: right;\">           5</td><td style=\"text-align: right;\">     7</td></tr>\\n<tr><td style=\"text-align: right;\">           7</td><td style=\"text-align: right;\">     7</td></tr>\\n<tr><td style=\"text-align: right;\">           4</td><td style=\"text-align: right;\">     5</td></tr>\\n<tr><td style=\"text-align: right;\">           6</td><td style=\"text-align: right;\">     5</td></tr>\\n<tr><td style=\"text-align: right;\">           6</td><td style=\"text-align: right;\">     6</td></tr>\\n<tr><td style=\"text-align: right;\">           5</td><td style=\"text-align: right;\">     5</td></tr>\\n<tr><td style=\"text-align: right;\">           2</td><td style=\"text-align: right;\">     5</td></tr>\\n<tr><td style=\"text-align: right;\">           1</td><td style=\"text-align: right;\">     7</td></tr>\\n<tr><td style=\"text-align: right;\">           4</td><td style=\"text-align: right;\">     5</td></tr>\\n<tr><td style=\"text-align: right;\">           6</td><td style=\"text-align: right;\">     4</td></tr>\\n<tr><td style=\"text-align: right;\">           6</td><td style=\"text-align: right;\">     7</td></tr>\\n<tr><td style=\"text-align: right;\">           5</td><td style=\"text-align: right;\">     4</td></tr>\\n<tr><td style=\"text-align: right;\">           4</td><td style=\"text-align: right;\">     5</td></tr>\\n<tr><td style=\"text-align: right;\">           2</td><td style=\"text-align: right;\">     3</td></tr>\\n<tr><td style=\"text-align: right;\">           6</td><td style=\"text-align: right;\">     5</td></tr>\\n<tr><td style=\"text-align: right;\">           3</td><td style=\"text-align: right;\">     5</td></tr>\\n<tr><td style=\"text-align: right;\">           2</td><td style=\"text-align: right;\">     2</td></tr>\\n<tr><td style=\"text-align: right;\">           4</td><td style=\"text-align: right;\">     5</td></tr>\\n<tr><td style=\"text-align: right;\">           4</td><td style=\"text-align: right;\">     5</td></tr>\\n<tr><td style=\"text-align: right;\">           1</td><td style=\"text-align: right;\">     2</td></tr>\\n<tr><td style=\"text-align: right;\">           2</td><td style=\"text-align: right;\">     4</td></tr>\\n<tr><td style=\"text-align: right;\">           4</td><td style=\"text-align: right;\">     5</td></tr>\\n<tr><td style=\"text-align: right;\">           6</td><td style=\"text-align: right;\">     4</td></tr>\\n<tr><td style=\"text-align: right;\">           5</td><td style=\"text-align: right;\">     4</td></tr>\\n<tr><td style=\"text-align: right;\">           3</td><td style=\"text-align: right;\">     6</td></tr>\\n<tr><td style=\"text-align: right;\">           5</td><td style=\"text-align: right;\">     4</td></tr>\\n<tr><td style=\"text-align: right;\">           5</td><td style=\"text-align: right;\">     5</td></tr>\\n<tr><td style=\"text-align: right;\">           4</td><td style=\"text-align: right;\">     5</td></tr>\\n<tr><td style=\"text-align: right;\">           7</td><td style=\"text-align: right;\">     7</td></tr>\\n<tr><td style=\"text-align: right;\">           5</td><td style=\"text-align: right;\">     6</td></tr>\\n<tr><td style=\"text-align: right;\">           2</td><td style=\"text-align: right;\">     3</td></tr>\\n<tr><td style=\"text-align: right;\">           2</td><td style=\"text-align: right;\">     4</td></tr>\\n<tr><td style=\"text-align: right;\">           2</td><td style=\"text-align: right;\">     4</td></tr>\\n<tr><td style=\"text-align: right;\">           4</td><td style=\"text-align: right;\">     5</td></tr>\\n<tr><td style=\"text-align: right;\">           2</td><td style=\"text-align: right;\">     6</td></tr>\\n<tr><td style=\"text-align: right;\">           2</td><td style=\"text-align: right;\">     4</td></tr>\\n<tr><td style=\"text-align: right;\">           4</td><td style=\"text-align: right;\">     4</td></tr>\\n<tr><td style=\"text-align: right;\">           6</td><td style=\"text-align: right;\">     6</td></tr>\\n<tr><td style=\"text-align: right;\">           5</td><td style=\"text-align: right;\">     6</td></tr>\\n<tr><td style=\"text-align: right;\">           3</td><td style=\"text-align: right;\">     4</td></tr>\\n<tr><td style=\"text-align: right;\">           5</td><td style=\"text-align: right;\">     5</td></tr>\\n<tr><td style=\"text-align: right;\">           2</td><td style=\"text-align: right;\">     2</td></tr>\\n<tr><td style=\"text-align: right;\">           4</td><td style=\"text-align: right;\">     4</td></tr>\\n<tr><td style=\"text-align: right;\">           6</td><td style=\"text-align: right;\">     6</td></tr>\\n<tr><td style=\"text-align: right;\">           7</td><td style=\"text-align: right;\">     2</td></tr>\\n<tr><td style=\"text-align: right;\">           2</td><td style=\"text-align: right;\">     6</td></tr>\\n<tr><td style=\"text-align: right;\">           3</td><td style=\"text-align: right;\">     4</td></tr>\\n<tr><td style=\"text-align: right;\">           5</td><td style=\"text-align: right;\">     6</td></tr>\\n<tr><td style=\"text-align: right;\">           3</td><td style=\"text-align: right;\">     5</td></tr>\\n<tr><td style=\"text-align: right;\">           2</td><td style=\"text-align: right;\">     1</td></tr>\\n<tr><td style=\"text-align: right;\">           2</td><td style=\"text-align: right;\">     5</td></tr>\\n<tr><td style=\"text-align: right;\">           2</td><td style=\"text-align: right;\">     4</td></tr>\\n<tr><td style=\"text-align: right;\">           4</td><td style=\"text-align: right;\">     5</td></tr>\\n<tr><td style=\"text-align: right;\">           4</td><td style=\"text-align: right;\">     4</td></tr>\\n<tr><td style=\"text-align: right;\">           6</td><td style=\"text-align: right;\">     4</td></tr>\\n<tr><td style=\"text-align: right;\">           3</td><td style=\"text-align: right;\">     4</td></tr>\\n<tr><td style=\"text-align: right;\">           6</td><td style=\"text-align: right;\">     5</td></tr>\\n<tr><td style=\"text-align: right;\">           5</td><td style=\"text-align: right;\">     5</td></tr>\\n<tr><td style=\"text-align: right;\">           6</td><td style=\"text-align: right;\">     6</td></tr>\\n<tr><td style=\"text-align: right;\">           4</td><td style=\"text-align: right;\">     5</td></tr>\\n<tr><td style=\"text-align: right;\">           7</td><td style=\"text-align: right;\">     7</td></tr>\\n<tr><td style=\"text-align: right;\">           3</td><td style=\"text-align: right;\">     4</td></tr>\\n<tr><td style=\"text-align: right;\">           3</td><td style=\"text-align: right;\">     4</td></tr>\\n<tr><td style=\"text-align: right;\">           4</td><td style=\"text-align: right;\">     3</td></tr>\\n<tr><td style=\"text-align: right;\">           5</td><td style=\"text-align: right;\">     6</td></tr>\\n<tr><td style=\"text-align: right;\">           6</td><td style=\"text-align: right;\">     6</td></tr>\\n<tr><td style=\"text-align: right;\">           4</td><td style=\"text-align: right;\">     3</td></tr>\\n<tr><td style=\"text-align: right;\">           4</td><td style=\"text-align: right;\">     4</td></tr>\\n<tr><td style=\"text-align: right;\">           4</td><td style=\"text-align: right;\">     6</td></tr>\\n<tr><td style=\"text-align: right;\">           6</td><td style=\"text-align: right;\">     6</td></tr>\\n<tr><td style=\"text-align: right;\">           6</td><td style=\"text-align: right;\">     4</td></tr>\\n<tr><td style=\"text-align: right;\">           4</td><td style=\"text-align: right;\">     5</td></tr>\\n<tr><td style=\"text-align: right;\">           6</td><td style=\"text-align: right;\">     6</td></tr>\\n<tr><td style=\"text-align: right;\">           6</td><td style=\"text-align: right;\">     7</td></tr>\\n<tr><td style=\"text-align: right;\">           5</td><td style=\"text-align: right;\">     5</td></tr>\\n<tr><td style=\"text-align: right;\">           4</td><td style=\"text-align: right;\">     6</td></tr>\\n<tr><td style=\"text-align: right;\">           5</td><td style=\"text-align: right;\">     7</td></tr>\\n<tr><td style=\"text-align: right;\">           6</td><td style=\"text-align: right;\">     6</td></tr>\\n<tr><td style=\"text-align: right;\">           4</td><td style=\"text-align: right;\">     4</td></tr>\\n<tr><td style=\"text-align: right;\">           3</td><td style=\"text-align: right;\">     5</td></tr>\\n<tr><td style=\"text-align: right;\">           4</td><td style=\"text-align: right;\">     4</td></tr>\\n<tr><td style=\"text-align: right;\">           4</td><td style=\"text-align: right;\">     5</td></tr>\\n<tr><td style=\"text-align: right;\">           5</td><td style=\"text-align: right;\">     5</td></tr>\\n<tr><td style=\"text-align: right;\">           4</td><td style=\"text-align: right;\">     5</td></tr>\\n<tr><td style=\"text-align: right;\">           3</td><td style=\"text-align: right;\">     4</td></tr>\\n<tr><td style=\"text-align: right;\">           6</td><td style=\"text-align: right;\">     7</td></tr>\\n<tr><td style=\"text-align: right;\">           5</td><td style=\"text-align: right;\">     6</td></tr>\\n<tr><td style=\"text-align: right;\">           5</td><td style=\"text-align: right;\">     7</td></tr>\\n<tr><td style=\"text-align: right;\">           2</td><td style=\"text-align: right;\">     5</td></tr>\\n<tr><td style=\"text-align: right;\">           5</td><td style=\"text-align: right;\">     5</td></tr>\\n<tr><td style=\"text-align: right;\">           5</td><td style=\"text-align: right;\">     5</td></tr>\\n<tr><td style=\"text-align: right;\">           5</td><td style=\"text-align: right;\">     4</td></tr>\\n<tr><td style=\"text-align: right;\">           7</td><td style=\"text-align: right;\">     5</td></tr>\\n<tr><td style=\"text-align: right;\">           4</td><td style=\"text-align: right;\">     5</td></tr>\\n<tr><td style=\"text-align: right;\">           7</td><td style=\"text-align: right;\">     5</td></tr>\\n<tr><td style=\"text-align: right;\">           7</td><td style=\"text-align: right;\">     7</td></tr>\\n<tr><td style=\"text-align: right;\">           2</td><td style=\"text-align: right;\">     3</td></tr>\\n<tr><td style=\"text-align: right;\">           4</td><td style=\"text-align: right;\">     4</td></tr>\\n<tr><td style=\"text-align: right;\">           5</td><td style=\"text-align: right;\">     4</td></tr>\\n<tr><td style=\"text-align: right;\">           4</td><td style=\"text-align: right;\">     5</td></tr>\\n<tr><td style=\"text-align: right;\">           4</td><td style=\"text-align: right;\">     4</td></tr>\\n<tr><td style=\"text-align: right;\">           2</td><td style=\"text-align: right;\">     4</td></tr>\\n<tr><td style=\"text-align: right;\">           5</td><td style=\"text-align: right;\">     6</td></tr>\\n<tr><td style=\"text-align: right;\">           1</td><td style=\"text-align: right;\">     4</td></tr>\\n<tr><td style=\"text-align: right;\">           7</td><td style=\"text-align: right;\">     7</td></tr>\\n<tr><td style=\"text-align: right;\">           5</td><td style=\"text-align: right;\">     7</td></tr>\\n<tr><td style=\"text-align: right;\">           2</td><td style=\"text-align: right;\">     4</td></tr>\\n<tr><td style=\"text-align: right;\">           7</td><td style=\"text-align: right;\">     6</td></tr>\\n<tr><td style=\"text-align: right;\">           6</td><td style=\"text-align: right;\">     6</td></tr>\\n<tr><td style=\"text-align: right;\">           7</td><td style=\"text-align: right;\">     6</td></tr>\\n<tr><td style=\"text-align: right;\">           4</td><td style=\"text-align: right;\">     5</td></tr>\\n<tr><td style=\"text-align: right;\">           4</td><td style=\"text-align: right;\">     4</td></tr>\\n<tr><td style=\"text-align: right;\">           4</td><td style=\"text-align: right;\">     5</td></tr>\\n<tr><td style=\"text-align: right;\">           5</td><td style=\"text-align: right;\">     5</td></tr>\\n<tr><td style=\"text-align: right;\">           4</td><td style=\"text-align: right;\">     6</td></tr>\\n<tr><td style=\"text-align: right;\">           3</td><td style=\"text-align: right;\">     6</td></tr>\\n<tr><td style=\"text-align: right;\">           5</td><td style=\"text-align: right;\">     6</td></tr>\\n<tr><td style=\"text-align: right;\">           5</td><td style=\"text-align: right;\">     4</td></tr>\\n<tr><td style=\"text-align: right;\">           2</td><td style=\"text-align: right;\">     3</td></tr>\\n<tr><td style=\"text-align: right;\">           4</td><td style=\"text-align: right;\">     4</td></tr>\\n<tr><td style=\"text-align: right;\">           4</td><td style=\"text-align: right;\">     4</td></tr>\\n<tr><td style=\"text-align: right;\">           5</td><td style=\"text-align: right;\">     5</td></tr>\\n<tr><td style=\"text-align: right;\">           4</td><td style=\"text-align: right;\">     4</td></tr>\\n<tr><td style=\"text-align: right;\">           4</td><td style=\"text-align: right;\">     4</td></tr>\\n<tr><td style=\"text-align: right;\">           6</td><td style=\"text-align: right;\">     5</td></tr>\\n<tr><td style=\"text-align: right;\">           5</td><td style=\"text-align: right;\">     4</td></tr>\\n<tr><td style=\"text-align: right;\">           5</td><td style=\"text-align: right;\">     6</td></tr>\\n<tr><td style=\"text-align: right;\">           4</td><td style=\"text-align: right;\">     5</td></tr>\\n<tr><td style=\"text-align: right;\">           4</td><td style=\"text-align: right;\">     5</td></tr>\\n<tr><td style=\"text-align: right;\">           4</td><td style=\"text-align: right;\">     5</td></tr>\\n<tr><td style=\"text-align: right;\">           3</td><td style=\"text-align: right;\">     5</td></tr>\\n<tr><td style=\"text-align: right;\">           5</td><td style=\"text-align: right;\">     4</td></tr>\\n<tr><td style=\"text-align: right;\">           5</td><td style=\"text-align: right;\">     6</td></tr>\\n<tr><td style=\"text-align: right;\">           4</td><td style=\"text-align: right;\">     4</td></tr>\\n<tr><td style=\"text-align: right;\">           5</td><td style=\"text-align: right;\">     5</td></tr>\\n<tr><td style=\"text-align: right;\">           3</td><td style=\"text-align: right;\">     4</td></tr>\\n<tr><td style=\"text-align: right;\">           5</td><td style=\"text-align: right;\">     5</td></tr>\\n<tr><td style=\"text-align: right;\">           4</td><td style=\"text-align: right;\">     6</td></tr>\\n<tr><td style=\"text-align: right;\">           2</td><td style=\"text-align: right;\">     3</td></tr>\\n<tr><td style=\"text-align: right;\">           5</td><td style=\"text-align: right;\">     5</td></tr>\\n<tr><td style=\"text-align: right;\">           4</td><td style=\"text-align: right;\">     5</td></tr>\\n<tr><td style=\"text-align: right;\">           3</td><td style=\"text-align: right;\">     3</td></tr>\\n<tr><td style=\"text-align: right;\">           4</td><td style=\"text-align: right;\">     5</td></tr>\\n<tr><td style=\"text-align: right;\">           2</td><td style=\"text-align: right;\">     5</td></tr>\\n<tr><td style=\"text-align: right;\">           6</td><td style=\"text-align: right;\">     6</td></tr>\\n<tr><td style=\"text-align: right;\">           2</td><td style=\"text-align: right;\">     4</td></tr>\\n<tr><td style=\"text-align: right;\">           2</td><td style=\"text-align: right;\">     4</td></tr>\\n<tr><td style=\"text-align: right;\">           5</td><td style=\"text-align: right;\">     6</td></tr>\\n</tbody>\\n</table>'"
      ]
     },
     "execution_count": 17,
     "metadata": {},
     "output_type": "execute_result"
    }
   ],
   "source": [
    "from data_utils import select\n",
    "\n",
    "selected_data: dict[str, list[str]] = select(data_cols, [\"difficulty\", \"pace\"])\n",
    "\n",
    "tabulate(head(selected_data, 310), selected_data.keys(), \"html\")"
   ]
  },
  {
   "cell_type": "markdown",
   "metadata": {},
   "source": [
    "Using the `count` function will allow us to see how many responses of each value there are in the columns."
   ]
  },
  {
   "cell_type": "code",
   "execution_count": 18,
   "metadata": {},
   "outputs": [
    {
     "name": "stdout",
     "output_type": "stream",
     "text": [
      "pace_counts: {'1': 2, '6': 137, '4': 173, '5': 203, '7': 69, '3': 27, '2': 9}\n",
      "difficulty_counts: {'1': 23, '6': 88, '4': 160, '5': 155, '3': 84, '7': 56, '2': 54}\n"
     ]
    }
   ],
   "source": [
    "from data_utils import count\n",
    "\n",
    "pace_count: dict[str, int] = count(selected_data[\"pace\"])\n",
    "print(f\"pace_counts: {pace_count}\")\n",
    "\n",
    "difficulty_counts: dict[str, int] = count(selected_data[\"difficulty\"])\n",
    "print(f\"difficulty_counts: {difficulty_counts}\")"
   ]
  },
  {
   "cell_type": "markdown",
   "metadata": {},
   "source": [
    "To make this information even easier to interpret, we can use the `average` function to determine the average of half the class' (310) responses."
   ]
  },
  {
   "cell_type": "code",
   "execution_count": 19,
   "metadata": {},
   "outputs": [
    {
     "name": "stdout",
     "output_type": "stream",
     "text": [
      "pace average: 88.57142857142857\n",
      "difficulty average: 88.57142857142857\n"
     ]
    }
   ],
   "source": [
    "from data_utils import average\n",
    "\n",
    "print(f\"pace average: {average(pace_count)}\")\n",
    "print(f\"difficulty average: {average(difficulty_counts)}\")"
   ]
  },
  {
   "cell_type": "markdown",
   "metadata": {},
   "source": [
    "Lastly, this is a visual bar graph to show the frequency of people who picked a specific value for the two columns we're looking at."
   ]
  },
  {
   "cell_type": "code",
   "execution_count": 20,
   "metadata": {},
   "outputs": [
    {
     "data": {
      "text/plain": [
       "<BarContainer object of 7 artists>"
      ]
     },
     "execution_count": 20,
     "metadata": {},
     "output_type": "execute_result"
    },
    {
     "data": {
      "image/png": "[encoded data removed]",
      "text/plain": [
       "<Figure size 864x360 with 2 Axes>"
      ]
     },
     "metadata": {
      "needs_background": "light"
     },
     "output_type": "display_data"
    }
   ],
   "source": [
    "from matplotlib import pyplot as plt\n",
    "\n",
    "fig, axes = plt.subplots(1, 2, figsize=(12, 5), sharey=True)\n",
    "fig.suptitle(\"Total Number of Responses for half of the COMP 110 Class\")\n",
    "\n",
    "\n",
    "axes[0].set_title(\"Pace\")\n",
    "axes[0].bar(pace_count.keys(), pace_count.values())\n",
    "axes[0].tick_params(axis='x', labelrotation = 45)\n",
    "\n",
    "axes[1].set_title(\"Difficulty\")\n",
    "axes[1].bar(difficulty_counts.keys(), difficulty_counts.values())"
   ]
  },
  {
   "cell_type": "markdown",
   "metadata": {},
   "source": [
    "## Conclusion\n",
    "\n",
    "In the following markdown cell, write a reflective conclusion given the analysis you performed and identify recommendations.\n",
    "\n",
    "If your analysis of the data supports your idea, state your recommendation for the change and summarize the data analysys results you found which support it. Additionally, describe any extensions or refinements to this idea which might be explored further. Finally, discuss the potential costs, trade-offs, or stakeholders who may be negatively impacted by this proposed change.\n",
    "\n",
    "If your analysis of the data is inconclusive, summarize why your data analysis results were inconclusive in the support of your idea. Additionally, describe what experimental idea implementation or additional data collection might help build more confidence in assessing your idea. Finally, discuss the potential costs, trade-offs, or stakeholders who may be negatively impacted by experimenting with your idea.\n",
    "\n",
    "Finally, if your analysis of the data does not support it, summarize your data analysis results and why it refutes your idea. Discuss the potential costs, trade-offs, or stakeholders who may be negatively impacted by this proposed change. If you disagree with the validity of the findings, describe why your idea still makes sense to implement and what alternative data would better support it. If you agree with the validity of the data analysis, describe what alternate ideas or extensions you would explore instead. "
   ]
  },
  {
   "cell_type": "markdown",
   "metadata": {},
   "source": [
    "### Part 5. Conclusion\n",
    "\n"
   ]
  }
 ],
 "metadata": {
  "interpreter": {
   "hash": "aee8b7b246df8f9039afb4144a1f6fd8d2ca17a180786b69acc140d282b71a49"
  },
  "kernelspec": {
   "display_name": "Python 3.10.2 64-bit",
   "language": "python",
   "name": "python3"
  },
  "language_info": {
   "codemirror_mode": {
    "name": "ipython",
    "version": 3
   },
   "file_extension": ".py",
   "mimetype": "text/x-python",
   "name": "python",
   "nbconvert_exporter": "python",
   "pygments_lexer": "ipython3",
   "version": "3.10.1"
  },
  "orig_nbformat": 4
 },
 "nbformat": 4,
 "nbformat_minor": 2
}
